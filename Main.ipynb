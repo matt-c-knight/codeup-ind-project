{
 "cells": [
  {
   "cell_type": "code",
   "execution_count": 57,
   "metadata": {},
   "outputs": [],
   "source": [
    "import pandas as pd\n",
    "from acquire import get_world_data\n",
    "import prepare\n",
    "import matplotlib.pyplot as plt\n",
    "import seaborn as sns\n",
    "from scipy import stats\n",
    "import sklearn.preprocessing\n",
    "from sklearn.model_selection import train_test_split\n",
    "from sklearn.metrics import accuracy_score, precision_score, recall_score, confusion_matrix, classification_report\n",
    "from sklearn.linear_model import LogisticRegression, LinearRegression\n"
   ]
  },
  {
   "cell_type": "markdown",
   "metadata": {},
   "source": [
    "# Acquire"
   ]
  },
  {
   "cell_type": "markdown",
   "metadata": {},
   "source": [
    "**Showing acquire function using a SQL query**"
   ]
  },
  {
   "cell_type": "code",
   "execution_count": 2,
   "metadata": {},
   "outputs": [],
   "source": [
    "def new_world_data():\n",
    "    \n",
    "    sql_query = 'SELECT country.Name as countryname, Continent as continent, Region as region, SurfaceArea as surfacearea, country.Population as countrypopulation, LifeExpectancy as lifeexpectancy, GNP as gnp, city.name as cityname, city.population as citypopulation FROM country JOIN city on country.code = city.countrycode'\n",
    "    df = pd.read_sql(sql_query, get_connection('world'))\n",
    "    df.to_csv('country.csv')\n",
    "    return df"
   ]
  },
  {
   "cell_type": "markdown",
   "metadata": {},
   "source": [
    "# Prepare"
   ]
  },
  {
   "cell_type": "markdown",
   "metadata": {},
   "source": [
    "**Showing prep function used to clean and create new derived columns.** "
   ]
  },
  {
   "cell_type": "code",
   "execution_count": 3,
   "metadata": {},
   "outputs": [],
   "source": [
    "def prep_world_data():\n",
    "    df = get_world_data()\n",
    "    #dropping null rows, only nulls are target variable and not going to impute mean\n",
    "    df.dropna(inplace=True)\n",
    "    #Creating a boolean column whether or not life exp is above or below 77\n",
    "    df['highest_life_exp'] = df['lifeexpectancy'].apply(lambda x: 1 if x >= 77 else 0)\n",
    "    #GNP is abbreviated. After doing calculations, I need to multiply gnp by a million to get actual figure. Will use this to determine gnp per capita.\n",
    "    df['real_gnp'] = df.gnp * 1000000\n",
    "    #Taking population and gnp to get more data\n",
    "    df['gnp_per_capita'] = round(df.real_gnp / df.countrypopulation, 2)\n",
    "    #Creating a column to determine how densly populated each country is to determine if that factors into life expectancy.\n",
    "    df['coutnry_pop_density'] = df.countrypopulation / df.surfacearea\n",
    "\n",
    "    \n",
    "    train_validate, test = train_test_split(df, test_size=.2, random_state=123, \n",
    "                                        stratify=df.highest_life_exp)\n",
    "    train, validate = train_test_split(train_validate, test_size=.3, random_state=123, \n",
    "                                   stratify=train_validate.highest_life_exp)\n",
    "\n",
    "    return train, validate, test"
   ]
  },
  {
   "cell_type": "code",
   "execution_count": 4,
   "metadata": {},
   "outputs": [],
   "source": [
    "train, validate, test = prep_world_data()"
   ]
  },
  {
   "cell_type": "code",
   "execution_count": 5,
   "metadata": {},
   "outputs": [
    {
     "data": {
      "text/plain": [
       "((2277, 14), (977, 14), (814, 14))"
      ]
     },
     "execution_count": 5,
     "metadata": {},
     "output_type": "execute_result"
    }
   ],
   "source": [
    "train.shape, validate.shape, test.shape"
   ]
  },
  {
   "cell_type": "code",
   "execution_count": 14,
   "metadata": {},
   "outputs": [
    {
     "data": {
      "text/html": [
       "<div>\n",
       "<style scoped>\n",
       "    .dataframe tbody tr th:only-of-type {\n",
       "        vertical-align: middle;\n",
       "    }\n",
       "\n",
       "    .dataframe tbody tr th {\n",
       "        vertical-align: top;\n",
       "    }\n",
       "\n",
       "    .dataframe thead th {\n",
       "        text-align: right;\n",
       "    }\n",
       "</style>\n",
       "<table border=\"1\" class=\"dataframe\">\n",
       "  <thead>\n",
       "    <tr style=\"text-align: right;\">\n",
       "      <th></th>\n",
       "      <th>code</th>\n",
       "      <th>countryname</th>\n",
       "      <th>continent</th>\n",
       "      <th>region</th>\n",
       "      <th>surfacearea</th>\n",
       "      <th>countrypopulation</th>\n",
       "      <th>lifeexpectancy</th>\n",
       "      <th>gnp</th>\n",
       "      <th>cityname</th>\n",
       "      <th>citypopulation</th>\n",
       "      <th>highest_life_exp</th>\n",
       "      <th>real_gnp</th>\n",
       "      <th>gnp_per_capita</th>\n",
       "      <th>population_density</th>\n",
       "    </tr>\n",
       "  </thead>\n",
       "  <tbody>\n",
       "    <tr>\n",
       "      <th>638</th>\n",
       "      <td>CHN</td>\n",
       "      <td>China</td>\n",
       "      <td>Asia</td>\n",
       "      <td>Eastern Asia</td>\n",
       "      <td>9572900.0</td>\n",
       "      <td>1277558000</td>\n",
       "      <td>71.4</td>\n",
       "      <td>982268.0</td>\n",
       "      <td>Baoji</td>\n",
       "      <td>337765</td>\n",
       "      <td>0</td>\n",
       "      <td>9.822680e+11</td>\n",
       "      <td>768.86</td>\n",
       "      <td>133.455693</td>\n",
       "    </tr>\n",
       "    <tr>\n",
       "      <th>868</th>\n",
       "      <td>CHN</td>\n",
       "      <td>China</td>\n",
       "      <td>Asia</td>\n",
       "      <td>Eastern Asia</td>\n",
       "      <td>9572900.0</td>\n",
       "      <td>1277558000</td>\n",
       "      <td>71.4</td>\n",
       "      <td>982268.0</td>\n",
       "      <td>Huangshan</td>\n",
       "      <td>102628</td>\n",
       "      <td>0</td>\n",
       "      <td>9.822680e+11</td>\n",
       "      <td>768.86</td>\n",
       "      <td>133.455693</td>\n",
       "    </tr>\n",
       "    <tr>\n",
       "      <th>2132</th>\n",
       "      <td>JPN</td>\n",
       "      <td>Japan</td>\n",
       "      <td>Asia</td>\n",
       "      <td>Eastern Asia</td>\n",
       "      <td>377829.0</td>\n",
       "      <td>126714000</td>\n",
       "      <td>80.7</td>\n",
       "      <td>3787042.0</td>\n",
       "      <td>Kofu</td>\n",
       "      <td>199753</td>\n",
       "      <td>1</td>\n",
       "      <td>3.787042e+12</td>\n",
       "      <td>29886.53</td>\n",
       "      <td>335.373939</td>\n",
       "    </tr>\n",
       "    <tr>\n",
       "      <th>264</th>\n",
       "      <td>BRA</td>\n",
       "      <td>Brazil</td>\n",
       "      <td>South America</td>\n",
       "      <td>South America</td>\n",
       "      <td>8547403.0</td>\n",
       "      <td>170115000</td>\n",
       "      <td>62.9</td>\n",
       "      <td>776739.0</td>\n",
       "      <td>Rio Branco</td>\n",
       "      <td>259537</td>\n",
       "      <td>0</td>\n",
       "      <td>7.767390e+11</td>\n",
       "      <td>4565.96</td>\n",
       "      <td>19.902536</td>\n",
       "    </tr>\n",
       "    <tr>\n",
       "      <th>2439</th>\n",
       "      <td>MDA</td>\n",
       "      <td>Moldova</td>\n",
       "      <td>Europe</td>\n",
       "      <td>Eastern Europe</td>\n",
       "      <td>33851.0</td>\n",
       "      <td>4380000</td>\n",
       "      <td>64.5</td>\n",
       "      <td>1579.0</td>\n",
       "      <td>Tiraspol</td>\n",
       "      <td>194300</td>\n",
       "      <td>0</td>\n",
       "      <td>1.579000e+09</td>\n",
       "      <td>360.50</td>\n",
       "      <td>129.390565</td>\n",
       "    </tr>\n",
       "  </tbody>\n",
       "</table>\n",
       "</div>"
      ],
      "text/plain": [
       "     code countryname      continent          region  surfacearea  \\\n",
       "638   CHN       China           Asia    Eastern Asia    9572900.0   \n",
       "868   CHN       China           Asia    Eastern Asia    9572900.0   \n",
       "2132  JPN       Japan           Asia    Eastern Asia     377829.0   \n",
       "264   BRA      Brazil  South America   South America    8547403.0   \n",
       "2439  MDA     Moldova         Europe  Eastern Europe      33851.0   \n",
       "\n",
       "      countrypopulation  lifeexpectancy        gnp    cityname  \\\n",
       "638          1277558000            71.4   982268.0       Baoji   \n",
       "868          1277558000            71.4   982268.0   Huangshan   \n",
       "2132          126714000            80.7  3787042.0        Kofu   \n",
       "264           170115000            62.9   776739.0  Rio Branco   \n",
       "2439            4380000            64.5     1579.0    Tiraspol   \n",
       "\n",
       "      citypopulation  highest_life_exp      real_gnp  gnp_per_capita  \\\n",
       "638           337765                 0  9.822680e+11          768.86   \n",
       "868           102628                 0  9.822680e+11          768.86   \n",
       "2132          199753                 1  3.787042e+12        29886.53   \n",
       "264           259537                 0  7.767390e+11         4565.96   \n",
       "2439          194300                 0  1.579000e+09          360.50   \n",
       "\n",
       "      population_density  \n",
       "638           133.455693  \n",
       "868           133.455693  \n",
       "2132          335.373939  \n",
       "264            19.902536  \n",
       "2439          129.390565  "
      ]
     },
     "execution_count": 14,
     "metadata": {},
     "output_type": "execute_result"
    }
   ],
   "source": [
    "train.head()"
   ]
  },
  {
   "cell_type": "markdown",
   "metadata": {},
   "source": [
    "# Explore"
   ]
  },
  {
   "cell_type": "markdown",
   "metadata": {},
   "source": [
    "**Going to perform various aggregations and visualizations for exploration purposes**"
   ]
  },
  {
   "cell_type": "code",
   "execution_count": 11,
   "metadata": {},
   "outputs": [
    {
     "data": {
      "text/plain": [
       "continent\n",
       "North America    0.583587\n",
       "Europe           0.520971\n",
       "Oceania          0.423077\n",
       "Asia             0.151759\n",
       "South America    0.000000\n",
       "Africa           0.000000\n",
       "Name: highest_life_exp, dtype: float64"
      ]
     },
     "execution_count": 11,
     "metadata": {},
     "output_type": "execute_result"
    }
   ],
   "source": [
    "train.groupby(['continent']).highest_life_exp.mean().sort_values(ascending=False)"
   ]
  },
  {
   "cell_type": "code",
   "execution_count": 12,
   "metadata": {},
   "outputs": [
    {
     "data": {
      "text/plain": [
       "continent      region                   \n",
       "Oceania        Australia and New Zealand    1.000000\n",
       "Europe         Western Europe               1.000000\n",
       "North America  North America                0.989362\n",
       "Europe         British Islands              0.976744\n",
       "               Southern Europe              0.863636\n",
       "               Nordic Countries             0.850000\n",
       "Asia           Eastern Asia                 0.319540\n",
       "North America  Caribbean                    0.171429\n",
       "Asia           Middle East                  0.130952\n",
       "               Southeast Asia               0.005988\n",
       "South America  South America                0.000000\n",
       "Africa         Eastern Africa               0.000000\n",
       "               Northern Africa              0.000000\n",
       "               Southern Africa              0.000000\n",
       "               Western Africa               0.000000\n",
       "Europe         Eastern Europe               0.000000\n",
       "Asia           Southern and Central Asia    0.000000\n",
       "Europe         Baltic Countries             0.000000\n",
       "Oceania        Polynesia                    0.000000\n",
       "North America  Central America              0.000000\n",
       "Oceania        Melanesia                    0.000000\n",
       "               Micronesia                   0.000000\n",
       "Africa         Central Africa               0.000000\n",
       "Name: highest_life_exp, dtype: float64"
      ]
     },
     "execution_count": 12,
     "metadata": {},
     "output_type": "execute_result"
    }
   ],
   "source": [
    "train.groupby(['continent', 'region']).highest_life_exp.mean().sort_values(ascending=False)"
   ]
  },
  {
   "cell_type": "code",
   "execution_count": 13,
   "metadata": {},
   "outputs": [],
   "source": [
    "#Western countries have the highest life expectancy on average. North America as a whole has a slightly lower avg than the region of NA due to Central America. Also for Europe, \n",
    "#their average is pulled down by the Baltic and Eastern European countries."
   ]
  },
  {
   "cell_type": "code",
   "execution_count": 16,
   "metadata": {},
   "outputs": [
    {
     "data": {
      "text/html": [
       "<div>\n",
       "<style scoped>\n",
       "    .dataframe tbody tr th:only-of-type {\n",
       "        vertical-align: middle;\n",
       "    }\n",
       "\n",
       "    .dataframe tbody tr th {\n",
       "        vertical-align: top;\n",
       "    }\n",
       "\n",
       "    .dataframe thead th {\n",
       "        text-align: right;\n",
       "    }\n",
       "</style>\n",
       "<table border=\"1\" class=\"dataframe\">\n",
       "  <thead>\n",
       "    <tr style=\"text-align: right;\">\n",
       "      <th></th>\n",
       "      <th>code</th>\n",
       "      <th>countryname</th>\n",
       "      <th>continent</th>\n",
       "      <th>region</th>\n",
       "      <th>surfacearea</th>\n",
       "      <th>countrypopulation</th>\n",
       "      <th>lifeexpectancy</th>\n",
       "      <th>gnp</th>\n",
       "      <th>cityname</th>\n",
       "      <th>citypopulation</th>\n",
       "      <th>highest_life_exp</th>\n",
       "      <th>real_gnp</th>\n",
       "      <th>gnp_per_capita</th>\n",
       "      <th>population_density</th>\n",
       "    </tr>\n",
       "  </thead>\n",
       "  <tbody>\n",
       "    <tr>\n",
       "      <th>3647</th>\n",
       "      <td>USA</td>\n",
       "      <td>United States</td>\n",
       "      <td>North America</td>\n",
       "      <td>North America</td>\n",
       "      <td>9363520.0</td>\n",
       "      <td>278357000</td>\n",
       "      <td>77.1</td>\n",
       "      <td>8510700.0</td>\n",
       "      <td>New York</td>\n",
       "      <td>8008278</td>\n",
       "      <td>1</td>\n",
       "      <td>8.510700e+12</td>\n",
       "      <td>30574.77</td>\n",
       "      <td>29.727816</td>\n",
       "    </tr>\n",
       "  </tbody>\n",
       "</table>\n",
       "</div>"
      ],
      "text/plain": [
       "     code    countryname      continent         region  surfacearea  \\\n",
       "3647  USA  United States  North America  North America    9363520.0   \n",
       "\n",
       "      countrypopulation  lifeexpectancy        gnp  cityname  citypopulation  \\\n",
       "3647          278357000            77.1  8510700.0  New York         8008278   \n",
       "\n",
       "      highest_life_exp      real_gnp  gnp_per_capita  population_density  \n",
       "3647                 1  8.510700e+12        30574.77           29.727816  "
      ]
     },
     "execution_count": 16,
     "metadata": {},
     "output_type": "execute_result"
    }
   ],
   "source": [
    "train[(train.citypopulation > 5_000_000) & (train.highest_life_exp == 1)]"
   ]
  },
  {
   "cell_type": "code",
   "execution_count": 20,
   "metadata": {},
   "outputs": [
    {
     "data": {
      "text/plain": [
       "14"
      ]
     },
     "execution_count": 20,
     "metadata": {},
     "output_type": "execute_result"
    }
   ],
   "source": [
    "len(train[(train.citypopulation > 5_000_000)])"
   ]
  },
  {
   "cell_type": "code",
   "execution_count": 17,
   "metadata": {},
   "outputs": [
    {
     "data": {
      "text/html": [
       "<div>\n",
       "<style scoped>\n",
       "    .dataframe tbody tr th:only-of-type {\n",
       "        vertical-align: middle;\n",
       "    }\n",
       "\n",
       "    .dataframe tbody tr th {\n",
       "        vertical-align: top;\n",
       "    }\n",
       "\n",
       "    .dataframe thead th {\n",
       "        text-align: right;\n",
       "    }\n",
       "</style>\n",
       "<table border=\"1\" class=\"dataframe\">\n",
       "  <thead>\n",
       "    <tr style=\"text-align: right;\">\n",
       "      <th></th>\n",
       "      <th>code</th>\n",
       "      <th>countryname</th>\n",
       "      <th>continent</th>\n",
       "      <th>region</th>\n",
       "      <th>surfacearea</th>\n",
       "      <th>countrypopulation</th>\n",
       "      <th>lifeexpectancy</th>\n",
       "      <th>gnp</th>\n",
       "      <th>cityname</th>\n",
       "      <th>citypopulation</th>\n",
       "      <th>highest_life_exp</th>\n",
       "      <th>real_gnp</th>\n",
       "      <th>gnp_per_capita</th>\n",
       "      <th>population_density</th>\n",
       "    </tr>\n",
       "  </thead>\n",
       "  <tbody>\n",
       "    <tr>\n",
       "      <th>2027</th>\n",
       "      <td>JPN</td>\n",
       "      <td>Japan</td>\n",
       "      <td>Asia</td>\n",
       "      <td>Eastern Asia</td>\n",
       "      <td>377829.0</td>\n",
       "      <td>126714000</td>\n",
       "      <td>80.7</td>\n",
       "      <td>3787042.0</td>\n",
       "      <td>Jokohama [Yokohama]</td>\n",
       "      <td>3339594</td>\n",
       "      <td>1</td>\n",
       "      <td>3.787042e+12</td>\n",
       "      <td>29886.53</td>\n",
       "      <td>335.373939</td>\n",
       "    </tr>\n",
       "    <tr>\n",
       "      <th>83</th>\n",
       "      <td>AUS</td>\n",
       "      <td>Australia</td>\n",
       "      <td>Oceania</td>\n",
       "      <td>Australia and New Zealand</td>\n",
       "      <td>7741220.0</td>\n",
       "      <td>18886000</td>\n",
       "      <td>79.8</td>\n",
       "      <td>351182.0</td>\n",
       "      <td>Sydney</td>\n",
       "      <td>3276207</td>\n",
       "      <td>1</td>\n",
       "      <td>3.511820e+11</td>\n",
       "      <td>18594.83</td>\n",
       "      <td>2.439667</td>\n",
       "    </tr>\n",
       "    <tr>\n",
       "      <th>3647</th>\n",
       "      <td>USA</td>\n",
       "      <td>United States</td>\n",
       "      <td>North America</td>\n",
       "      <td>North America</td>\n",
       "      <td>9363520.0</td>\n",
       "      <td>278357000</td>\n",
       "      <td>77.1</td>\n",
       "      <td>8510700.0</td>\n",
       "      <td>New York</td>\n",
       "      <td>8008278</td>\n",
       "      <td>1</td>\n",
       "      <td>8.510700e+12</td>\n",
       "      <td>30574.77</td>\n",
       "      <td>29.727816</td>\n",
       "    </tr>\n",
       "    <tr>\n",
       "      <th>997</th>\n",
       "      <td>DEU</td>\n",
       "      <td>Germany</td>\n",
       "      <td>Europe</td>\n",
       "      <td>Western Europe</td>\n",
       "      <td>357022.0</td>\n",
       "      <td>82164700</td>\n",
       "      <td>77.4</td>\n",
       "      <td>2133367.0</td>\n",
       "      <td>Berlin</td>\n",
       "      <td>3386667</td>\n",
       "      <td>1</td>\n",
       "      <td>2.133367e+12</td>\n",
       "      <td>25964.52</td>\n",
       "      <td>230.139039</td>\n",
       "    </tr>\n",
       "    <tr>\n",
       "      <th>3385</th>\n",
       "      <td>SGP</td>\n",
       "      <td>Singapore</td>\n",
       "      <td>Asia</td>\n",
       "      <td>Southeast Asia</td>\n",
       "      <td>618.0</td>\n",
       "      <td>3567000</td>\n",
       "      <td>80.1</td>\n",
       "      <td>86503.0</td>\n",
       "      <td>Singapore</td>\n",
       "      <td>4017733</td>\n",
       "      <td>1</td>\n",
       "      <td>8.650300e+10</td>\n",
       "      <td>24250.91</td>\n",
       "      <td>5771.844660</td>\n",
       "    </tr>\n",
       "  </tbody>\n",
       "</table>\n",
       "</div>"
      ],
      "text/plain": [
       "     code    countryname      continent                     region  \\\n",
       "2027  JPN          Japan           Asia               Eastern Asia   \n",
       "83    AUS      Australia        Oceania  Australia and New Zealand   \n",
       "3647  USA  United States  North America              North America   \n",
       "997   DEU        Germany         Europe             Western Europe   \n",
       "3385  SGP      Singapore           Asia             Southeast Asia   \n",
       "\n",
       "      surfacearea  countrypopulation  lifeexpectancy        gnp  \\\n",
       "2027     377829.0          126714000            80.7  3787042.0   \n",
       "83      7741220.0           18886000            79.8   351182.0   \n",
       "3647    9363520.0          278357000            77.1  8510700.0   \n",
       "997      357022.0           82164700            77.4  2133367.0   \n",
       "3385        618.0            3567000            80.1    86503.0   \n",
       "\n",
       "                 cityname  citypopulation  highest_life_exp      real_gnp  \\\n",
       "2027  Jokohama [Yokohama]         3339594                 1  3.787042e+12   \n",
       "83                 Sydney         3276207                 1  3.511820e+11   \n",
       "3647             New York         8008278                 1  8.510700e+12   \n",
       "997                Berlin         3386667                 1  2.133367e+12   \n",
       "3385            Singapore         4017733                 1  8.650300e+10   \n",
       "\n",
       "      gnp_per_capita  population_density  \n",
       "2027        29886.53          335.373939  \n",
       "83          18594.83            2.439667  \n",
       "3647        30574.77           29.727816  \n",
       "997         25964.52          230.139039  \n",
       "3385        24250.91         5771.844660  "
      ]
     },
     "execution_count": 17,
     "metadata": {},
     "output_type": "execute_result"
    }
   ],
   "source": [
    "train[(train.citypopulation > 3_000_000) & (train.highest_life_exp == 1)]"
   ]
  },
  {
   "cell_type": "code",
   "execution_count": 18,
   "metadata": {},
   "outputs": [
    {
     "data": {
      "text/html": [
       "<div>\n",
       "<style scoped>\n",
       "    .dataframe tbody tr th:only-of-type {\n",
       "        vertical-align: middle;\n",
       "    }\n",
       "\n",
       "    .dataframe tbody tr th {\n",
       "        vertical-align: top;\n",
       "    }\n",
       "\n",
       "    .dataframe thead th {\n",
       "        text-align: right;\n",
       "    }\n",
       "</style>\n",
       "<table border=\"1\" class=\"dataframe\">\n",
       "  <thead>\n",
       "    <tr style=\"text-align: right;\">\n",
       "      <th></th>\n",
       "      <th>code</th>\n",
       "      <th>countryname</th>\n",
       "      <th>continent</th>\n",
       "      <th>region</th>\n",
       "      <th>surfacearea</th>\n",
       "      <th>countrypopulation</th>\n",
       "      <th>lifeexpectancy</th>\n",
       "      <th>gnp</th>\n",
       "      <th>cityname</th>\n",
       "      <th>citypopulation</th>\n",
       "      <th>highest_life_exp</th>\n",
       "      <th>real_gnp</th>\n",
       "      <th>gnp_per_capita</th>\n",
       "      <th>population_density</th>\n",
       "    </tr>\n",
       "  </thead>\n",
       "  <tbody>\n",
       "    <tr>\n",
       "      <th>2027</th>\n",
       "      <td>JPN</td>\n",
       "      <td>Japan</td>\n",
       "      <td>Asia</td>\n",
       "      <td>Eastern Asia</td>\n",
       "      <td>377829.0</td>\n",
       "      <td>126714000</td>\n",
       "      <td>80.7</td>\n",
       "      <td>3787042.0</td>\n",
       "      <td>Jokohama [Yokohama]</td>\n",
       "      <td>3339594</td>\n",
       "      <td>1</td>\n",
       "      <td>3.787042e+12</td>\n",
       "      <td>29886.53</td>\n",
       "      <td>335.373939</td>\n",
       "    </tr>\n",
       "    <tr>\n",
       "      <th>1175</th>\n",
       "      <td>ESP</td>\n",
       "      <td>Spain</td>\n",
       "      <td>Europe</td>\n",
       "      <td>Southern Europe</td>\n",
       "      <td>505992.0</td>\n",
       "      <td>39441700</td>\n",
       "      <td>78.8</td>\n",
       "      <td>553233.0</td>\n",
       "      <td>Madrid</td>\n",
       "      <td>2879052</td>\n",
       "      <td>1</td>\n",
       "      <td>5.532330e+11</td>\n",
       "      <td>14026.60</td>\n",
       "      <td>77.949256</td>\n",
       "    </tr>\n",
       "    <tr>\n",
       "      <th>1960</th>\n",
       "      <td>ITA</td>\n",
       "      <td>Italy</td>\n",
       "      <td>Europe</td>\n",
       "      <td>Southern Europe</td>\n",
       "      <td>301316.0</td>\n",
       "      <td>57680000</td>\n",
       "      <td>79.0</td>\n",
       "      <td>1161755.0</td>\n",
       "      <td>Roma</td>\n",
       "      <td>2643581</td>\n",
       "      <td>1</td>\n",
       "      <td>1.161755e+12</td>\n",
       "      <td>20141.38</td>\n",
       "      <td>191.426940</td>\n",
       "    </tr>\n",
       "    <tr>\n",
       "      <th>83</th>\n",
       "      <td>AUS</td>\n",
       "      <td>Australia</td>\n",
       "      <td>Oceania</td>\n",
       "      <td>Australia and New Zealand</td>\n",
       "      <td>7741220.0</td>\n",
       "      <td>18886000</td>\n",
       "      <td>79.8</td>\n",
       "      <td>351182.0</td>\n",
       "      <td>Sydney</td>\n",
       "      <td>3276207</td>\n",
       "      <td>1</td>\n",
       "      <td>3.511820e+11</td>\n",
       "      <td>18594.83</td>\n",
       "      <td>2.439667</td>\n",
       "    </tr>\n",
       "    <tr>\n",
       "      <th>2029</th>\n",
       "      <td>JPN</td>\n",
       "      <td>Japan</td>\n",
       "      <td>Asia</td>\n",
       "      <td>Eastern Asia</td>\n",
       "      <td>377829.0</td>\n",
       "      <td>126714000</td>\n",
       "      <td>80.7</td>\n",
       "      <td>3787042.0</td>\n",
       "      <td>Nagoya</td>\n",
       "      <td>2154376</td>\n",
       "      <td>1</td>\n",
       "      <td>3.787042e+12</td>\n",
       "      <td>29886.53</td>\n",
       "      <td>335.373939</td>\n",
       "    </tr>\n",
       "    <tr>\n",
       "      <th>3647</th>\n",
       "      <td>USA</td>\n",
       "      <td>United States</td>\n",
       "      <td>North America</td>\n",
       "      <td>North America</td>\n",
       "      <td>9363520.0</td>\n",
       "      <td>278357000</td>\n",
       "      <td>77.1</td>\n",
       "      <td>8510700.0</td>\n",
       "      <td>New York</td>\n",
       "      <td>8008278</td>\n",
       "      <td>1</td>\n",
       "      <td>8.510700e+12</td>\n",
       "      <td>30574.77</td>\n",
       "      <td>29.727816</td>\n",
       "    </tr>\n",
       "    <tr>\n",
       "      <th>1252</th>\n",
       "      <td>FRA</td>\n",
       "      <td>France</td>\n",
       "      <td>Europe</td>\n",
       "      <td>Western Europe</td>\n",
       "      <td>551500.0</td>\n",
       "      <td>59225700</td>\n",
       "      <td>78.8</td>\n",
       "      <td>1424285.0</td>\n",
       "      <td>Paris</td>\n",
       "      <td>2125246</td>\n",
       "      <td>1</td>\n",
       "      <td>1.424285e+12</td>\n",
       "      <td>24048.43</td>\n",
       "      <td>107.390209</td>\n",
       "    </tr>\n",
       "    <tr>\n",
       "      <th>2028</th>\n",
       "      <td>JPN</td>\n",
       "      <td>Japan</td>\n",
       "      <td>Asia</td>\n",
       "      <td>Eastern Asia</td>\n",
       "      <td>377829.0</td>\n",
       "      <td>126714000</td>\n",
       "      <td>80.7</td>\n",
       "      <td>3787042.0</td>\n",
       "      <td>Osaka</td>\n",
       "      <td>2595674</td>\n",
       "      <td>1</td>\n",
       "      <td>3.787042e+12</td>\n",
       "      <td>29886.53</td>\n",
       "      <td>335.373939</td>\n",
       "    </tr>\n",
       "    <tr>\n",
       "      <th>997</th>\n",
       "      <td>DEU</td>\n",
       "      <td>Germany</td>\n",
       "      <td>Europe</td>\n",
       "      <td>Western Europe</td>\n",
       "      <td>357022.0</td>\n",
       "      <td>82164700</td>\n",
       "      <td>77.4</td>\n",
       "      <td>2133367.0</td>\n",
       "      <td>Berlin</td>\n",
       "      <td>3386667</td>\n",
       "      <td>1</td>\n",
       "      <td>2.133367e+12</td>\n",
       "      <td>25964.52</td>\n",
       "      <td>230.139039</td>\n",
       "    </tr>\n",
       "    <tr>\n",
       "      <th>3385</th>\n",
       "      <td>SGP</td>\n",
       "      <td>Singapore</td>\n",
       "      <td>Asia</td>\n",
       "      <td>Southeast Asia</td>\n",
       "      <td>618.0</td>\n",
       "      <td>3567000</td>\n",
       "      <td>80.1</td>\n",
       "      <td>86503.0</td>\n",
       "      <td>Singapore</td>\n",
       "      <td>4017733</td>\n",
       "      <td>1</td>\n",
       "      <td>8.650300e+10</td>\n",
       "      <td>24250.91</td>\n",
       "      <td>5771.844660</td>\n",
       "    </tr>\n",
       "  </tbody>\n",
       "</table>\n",
       "</div>"
      ],
      "text/plain": [
       "     code    countryname      continent                     region  \\\n",
       "2027  JPN          Japan           Asia               Eastern Asia   \n",
       "1175  ESP          Spain         Europe            Southern Europe   \n",
       "1960  ITA          Italy         Europe            Southern Europe   \n",
       "83    AUS      Australia        Oceania  Australia and New Zealand   \n",
       "2029  JPN          Japan           Asia               Eastern Asia   \n",
       "3647  USA  United States  North America              North America   \n",
       "1252  FRA         France         Europe             Western Europe   \n",
       "2028  JPN          Japan           Asia               Eastern Asia   \n",
       "997   DEU        Germany         Europe             Western Europe   \n",
       "3385  SGP      Singapore           Asia             Southeast Asia   \n",
       "\n",
       "      surfacearea  countrypopulation  lifeexpectancy        gnp  \\\n",
       "2027     377829.0          126714000            80.7  3787042.0   \n",
       "1175     505992.0           39441700            78.8   553233.0   \n",
       "1960     301316.0           57680000            79.0  1161755.0   \n",
       "83      7741220.0           18886000            79.8   351182.0   \n",
       "2029     377829.0          126714000            80.7  3787042.0   \n",
       "3647    9363520.0          278357000            77.1  8510700.0   \n",
       "1252     551500.0           59225700            78.8  1424285.0   \n",
       "2028     377829.0          126714000            80.7  3787042.0   \n",
       "997      357022.0           82164700            77.4  2133367.0   \n",
       "3385        618.0            3567000            80.1    86503.0   \n",
       "\n",
       "                 cityname  citypopulation  highest_life_exp      real_gnp  \\\n",
       "2027  Jokohama [Yokohama]         3339594                 1  3.787042e+12   \n",
       "1175               Madrid         2879052                 1  5.532330e+11   \n",
       "1960                 Roma         2643581                 1  1.161755e+12   \n",
       "83                 Sydney         3276207                 1  3.511820e+11   \n",
       "2029               Nagoya         2154376                 1  3.787042e+12   \n",
       "3647             New York         8008278                 1  8.510700e+12   \n",
       "1252                Paris         2125246                 1  1.424285e+12   \n",
       "2028                Osaka         2595674                 1  3.787042e+12   \n",
       "997                Berlin         3386667                 1  2.133367e+12   \n",
       "3385            Singapore         4017733                 1  8.650300e+10   \n",
       "\n",
       "      gnp_per_capita  population_density  \n",
       "2027        29886.53          335.373939  \n",
       "1175        14026.60           77.949256  \n",
       "1960        20141.38          191.426940  \n",
       "83          18594.83            2.439667  \n",
       "2029        29886.53          335.373939  \n",
       "3647        30574.77           29.727816  \n",
       "1252        24048.43          107.390209  \n",
       "2028        29886.53          335.373939  \n",
       "997         25964.52          230.139039  \n",
       "3385        24250.91         5771.844660  "
      ]
     },
     "execution_count": 18,
     "metadata": {},
     "output_type": "execute_result"
    }
   ],
   "source": [
    "train[(train.citypopulation > 2_000_000) & (train.highest_life_exp == 1)]"
   ]
  },
  {
   "cell_type": "code",
   "execution_count": 19,
   "metadata": {},
   "outputs": [
    {
     "data": {
      "text/plain": [
       "57"
      ]
     },
     "execution_count": 19,
     "metadata": {},
     "output_type": "execute_result"
    }
   ],
   "source": [
    "len(train[train.citypopulation > 2_000_000])"
   ]
  },
  {
   "cell_type": "code",
   "execution_count": 21,
   "metadata": {},
   "outputs": [],
   "source": [
    "#Out of 57 cities with a population over 2 million, only 10 was the avg life expectancy 77 or higher.\n",
    "#Out of 14 cities with a population over 5 million, NYC was the only city with an avg life expectancy 77 or higher."
   ]
  },
  {
   "cell_type": "markdown",
   "metadata": {},
   "source": [
    "# Visualizations"
   ]
  },
  {
   "cell_type": "code",
   "execution_count": 23,
   "metadata": {},
   "outputs": [
    {
     "data": {
      "text/plain": [
       "Text(0.5, 0, 'Highest Life Expectancy')"
      ]
     },
     "execution_count": 23,
     "metadata": {},
     "output_type": "execute_result"
    },
    {
     "data": {
      "image/png": "[encoded data removed]",
      "text/plain": [
       "<Figure size 432x288 with 1 Axes>"
      ]
     },
     "metadata": {
      "needs_background": "light"
     },
     "output_type": "display_data"
    }
   ],
   "source": [
    "#Visualize the target variable\n",
    "train.highest_life_exp.value_counts().plot.bar()\n",
    "plt.xlabel('Highest Life Expectancy')"
   ]
  },
  {
   "cell_type": "markdown",
   "metadata": {},
   "source": [
    "**Going to look at the relationship between the target variable and a few other key features**"
   ]
  },
  {
   "cell_type": "code",
   "execution_count": 38,
   "metadata": {},
   "outputs": [
    {
     "data": {
      "image/png": "[encoded data removed]",
      "text/plain": [
       "<Figure size 864x504 with 3 Axes>"
      ]
     },
     "metadata": {
      "needs_background": "light"
     },
     "output_type": "display_data"
    }
   ],
   "source": [
    "fig, axs = plt.subplots(3, 1, figsize=(12, 7), sharex=True, sharey=True)\n",
    "\n",
    "train.gnp_per_capita.plot.hist(ax=axs[0], title='Overall')\n",
    "train[train.highest_life_exp == 1].gnp_per_capita.plot.hist(ax=axs[1], title='Highest')\n",
    "train[train.highest_life_exp == 0].gnp_per_capita.plot.hist(ax=axs[2], title='Lowest')\n",
    "fig.tight_layout()\n"
   ]
  },
  {
   "cell_type": "code",
   "execution_count": 39,
   "metadata": {},
   "outputs": [
    {
     "data": {
      "text/plain": [
       "<matplotlib.legend.Legend at 0x7f9a9c807450>"
      ]
     },
     "execution_count": 39,
     "metadata": {},
     "output_type": "execute_result"
    },
    {
     "data": {
      "image/png": "[encoded data removed]",
      "text/plain": [
       "<Figure size 936x504 with 1 Axes>"
      ]
     },
     "metadata": {
      "needs_background": "light"
     },
     "output_type": "display_data"
    }
   ],
   "source": [
    "ax = train.gnp_per_capita.plot.hist(title='Overall', figsize=(13, 7), label='Overall')\n",
    "train[train.highest_life_exp == 1].gnp_per_capita.plot.hist(ax=ax, label='Highest')\n",
    "plt.legend()"
   ]
  },
  {
   "cell_type": "code",
   "execution_count": 41,
   "metadata": {},
   "outputs": [],
   "source": [
    "#Most of the locations with the highest life expectancy also have a higher GNP per capita."
   ]
  },
  {
   "cell_type": "code",
   "execution_count": null,
   "metadata": {},
   "outputs": [],
   "source": []
  },
  {
   "cell_type": "code",
   "execution_count": null,
   "metadata": {},
   "outputs": [],
   "source": []
  },
  {
   "cell_type": "code",
   "execution_count": null,
   "metadata": {},
   "outputs": [],
   "source": []
  },
  {
   "cell_type": "code",
   "execution_count": null,
   "metadata": {},
   "outputs": [],
   "source": []
  },
  {
   "cell_type": "code",
   "execution_count": null,
   "metadata": {},
   "outputs": [],
   "source": []
  },
  {
   "cell_type": "code",
   "execution_count": 40,
   "metadata": {},
   "outputs": [
    {
     "data": {
      "text/plain": [
       "<AxesSubplot:>"
      ]
     },
     "execution_count": 40,
     "metadata": {},
     "output_type": "execute_result"
    },
    {
     "data": {
      "image/png": "[encoded data removed]",
      "text/plain": [
       "<Figure size 576x432 with 2 Axes>"
      ]
     },
     "metadata": {
      "needs_background": "light"
     },
     "output_type": "display_data"
    }
   ],
   "source": [
    "plt.figure(figsize=(8,6))\n",
    "sns.heatmap(train.corr(), cmap='Blues', annot=True)"
   ]
  },
  {
   "cell_type": "markdown",
   "metadata": {},
   "source": [
    "# Hypothesis Testing"
   ]
  },
  {
   "cell_type": "code",
   "execution_count": 47,
   "metadata": {},
   "outputs": [],
   "source": [
    "alpha = .05"
   ]
  },
  {
   "cell_type": "code",
   "execution_count": 54,
   "metadata": {},
   "outputs": [],
   "source": [
    "x = train.gnp_per_capita\n",
    "y = train.lifeexpectancy"
   ]
  },
  {
   "cell_type": "code",
   "execution_count": 55,
   "metadata": {},
   "outputs": [
    {
     "name": "stdout",
     "output_type": "stream",
     "text": [
      "r = 0.6751177202301126\n",
      "p = 6.81888122998852e-303\n"
     ]
    },
    {
     "data": {
      "text/plain": [
       "True"
      ]
     },
     "execution_count": 55,
     "metadata": {},
     "output_type": "execute_result"
    }
   ],
   "source": [
    "r, p = stats.pearsonr(x, y)\n",
    "print('r =', r)\n",
    "print('p =', p)\n",
    "p < alpha"
   ]
  },
  {
   "cell_type": "code",
   "execution_count": 56,
   "metadata": {},
   "outputs": [],
   "source": [
    "#There is a significant relationship between gnp_per_capita and lifeexpectancy"
   ]
  },
  {
   "cell_type": "code",
   "execution_count": 53,
   "metadata": {},
   "outputs": [],
   "source": []
  },
  {
   "cell_type": "code",
   "execution_count": null,
   "metadata": {},
   "outputs": [],
   "source": []
  },
  {
   "cell_type": "code",
   "execution_count": null,
   "metadata": {},
   "outputs": [],
   "source": []
  },
  {
   "cell_type": "code",
   "execution_count": null,
   "metadata": {},
   "outputs": [],
   "source": []
  },
  {
   "cell_type": "code",
   "execution_count": null,
   "metadata": {},
   "outputs": [],
   "source": []
  },
  {
   "cell_type": "code",
   "execution_count": null,
   "metadata": {},
   "outputs": [],
   "source": []
  },
  {
   "cell_type": "code",
   "execution_count": null,
   "metadata": {},
   "outputs": [],
   "source": []
  },
  {
   "cell_type": "code",
   "execution_count": null,
   "metadata": {},
   "outputs": [],
   "source": []
  },
  {
   "cell_type": "code",
   "execution_count": null,
   "metadata": {},
   "outputs": [],
   "source": []
  },
  {
   "cell_type": "markdown",
   "metadata": {},
   "source": [
    "# Modeling"
   ]
  },
  {
   "cell_type": "markdown",
   "metadata": {},
   "source": [
    "**Set Baseline**"
   ]
  },
  {
   "cell_type": "code",
   "execution_count": 7,
   "metadata": {},
   "outputs": [
    {
     "data": {
      "text/plain": [
       "0    0.740887\n",
       "1    0.259113\n",
       "Name: highest_life_exp, dtype: float64"
      ]
     },
     "execution_count": 7,
     "metadata": {},
     "output_type": "execute_result"
    }
   ],
   "source": [
    "train.highest_life_exp.value_counts(normalize=True)\n"
   ]
  },
  {
   "cell_type": "code",
   "execution_count": 9,
   "metadata": {},
   "outputs": [],
   "source": [
    "#Baseline is 74% accuracy"
   ]
  },
  {
   "cell_type": "code",
   "execution_count": 62,
   "metadata": {},
   "outputs": [],
   "source": [
    "train = train[['surfacearea', 'countrypopulation', 'citypopulation', 'gnp_per_capita', 'population_density', 'highest_life_exp']]"
   ]
  },
  {
   "cell_type": "code",
   "execution_count": 59,
   "metadata": {},
   "outputs": [],
   "source": [
    "logit = LogisticRegression()\n"
   ]
  },
  {
   "cell_type": "code",
   "execution_count": 64,
   "metadata": {},
   "outputs": [],
   "source": [
    "X_train = train.drop(columns=['highest_life_exp'])\n",
    "y_train = train.highest_life_exp\n",
    "\n",
    "X_validate = validate.drop(columns=['highest_life_exp'])\n",
    "y_validate = validate.highest_life_exp\n",
    "\n",
    "X_test = test.drop(columns=['highest_life_exp'])\n",
    "y_test = test.highest_life_exp"
   ]
  },
  {
   "cell_type": "code",
   "execution_count": 65,
   "metadata": {},
   "outputs": [],
   "source": [
    "#Fit the model\n",
    "logit = logit.fit(X_train, y_train)\n"
   ]
  },
  {
   "cell_type": "code",
   "execution_count": 66,
   "metadata": {},
   "outputs": [
    {
     "name": "stdout",
     "output_type": "stream",
     "text": [
      "[[ 2.11274383e-08 -2.20129477e-08 -3.13033931e-06  2.62990476e-04\n",
      "   1.22830078e-06]]\n",
      "[-4.58484731e-09]\n"
     ]
    }
   ],
   "source": [
    "print(logit.coef_)\n",
    "\n",
    "print(logit.intercept_)"
   ]
  },
  {
   "cell_type": "code",
   "execution_count": 67,
   "metadata": {},
   "outputs": [],
   "source": [
    "y_pred = logit.predict(X_train)\n",
    "y_pred_proba = logit.predict_proba(X_train)"
   ]
  },
  {
   "cell_type": "code",
   "execution_count": 68,
   "metadata": {},
   "outputs": [
    {
     "data": {
      "text/plain": [
       "0.9033816425120773"
      ]
     },
     "execution_count": 68,
     "metadata": {},
     "output_type": "execute_result"
    }
   ],
   "source": [
    "logit.score(X_train, y_train)\n"
   ]
  },
  {
   "cell_type": "code",
   "execution_count": 69,
   "metadata": {},
   "outputs": [
    {
     "name": "stdout",
     "output_type": "stream",
     "text": [
      "[[1492  195]\n",
      " [  25  565]]\n"
     ]
    }
   ],
   "source": [
    "print(confusion_matrix(y_train, y_pred))\n"
   ]
  },
  {
   "cell_type": "code",
   "execution_count": 70,
   "metadata": {},
   "outputs": [
    {
     "name": "stdout",
     "output_type": "stream",
     "text": [
      "              precision    recall  f1-score   support\n",
      "\n",
      "           0       0.98      0.88      0.93      1687\n",
      "           1       0.74      0.96      0.84       590\n",
      "\n",
      "    accuracy                           0.90      2277\n",
      "   macro avg       0.86      0.92      0.88      2277\n",
      "weighted avg       0.92      0.90      0.91      2277\n",
      "\n"
     ]
    }
   ],
   "source": [
    "# classification report\n",
    "print(classification_report(y_train, y_pred))"
   ]
  },
  {
   "cell_type": "markdown",
   "metadata": {},
   "source": [
    "# Model 2 \n",
    "- Change C to be very low"
   ]
  },
  {
   "cell_type": "code",
   "execution_count": 71,
   "metadata": {},
   "outputs": [
    {
     "data": {
      "text/plain": [
       "array([[ 2.11243344e-08, -2.20126040e-08, -3.13031902e-06,\n",
       "         2.62986943e-04,  1.22828597e-06]])"
      ]
     },
     "execution_count": 71,
     "metadata": {},
     "output_type": "execute_result"
    }
   ],
   "source": [
    "logit2 = LogisticRegression(C=.00001)\n",
    "\n",
    "logit2.fit(X_train, y_train)\n",
    "\n",
    "logit2.coef_"
   ]
  },
  {
   "cell_type": "code",
   "execution_count": 79,
   "metadata": {},
   "outputs": [],
   "source": [
    "y_pred2 = logit2.predict(X_train)\n",
    "y_pred_proba = logit2.predict_proba(X_train)"
   ]
  },
  {
   "cell_type": "code",
   "execution_count": 80,
   "metadata": {},
   "outputs": [
    {
     "data": {
      "text/plain": [
       "0.9033816425120773"
      ]
     },
     "execution_count": 80,
     "metadata": {},
     "output_type": "execute_result"
    }
   ],
   "source": [
    "# evaluate\n",
    "\n",
    "logit2.score(X_train, y_train)"
   ]
  },
  {
   "cell_type": "code",
   "execution_count": 81,
   "metadata": {},
   "outputs": [
    {
     "name": "stdout",
     "output_type": "stream",
     "text": [
      "              precision    recall  f1-score   support\n",
      "\n",
      "           0       0.98      0.88      0.93      1687\n",
      "           1       0.74      0.96      0.84       590\n",
      "\n",
      "    accuracy                           0.90      2277\n",
      "   macro avg       0.86      0.92      0.88      2277\n",
      "weighted avg       0.92      0.90      0.91      2277\n",
      "\n"
     ]
    }
   ],
   "source": [
    "print(classification_report(y_train, y_pred2))\n"
   ]
  },
  {
   "cell_type": "markdown",
   "metadata": {},
   "source": [
    "# Model 3\n",
    "- Change C to be high"
   ]
  },
  {
   "cell_type": "code",
   "execution_count": 75,
   "metadata": {},
   "outputs": [
    {
     "name": "stdout",
     "output_type": "stream",
     "text": [
      "[[ 2.11274386e-08 -2.20129478e-08 -3.13033931e-06  2.62990477e-04\n",
      "   1.22830078e-06]]\n",
      "[[ 2.11274383e-08 -2.20129477e-08 -3.13033931e-06  2.62990476e-04\n",
      "   1.22830078e-06]]\n",
      "0.9033816425120773\n"
     ]
    }
   ],
   "source": [
    "logit3 = LogisticRegression(C=10000)\n",
    "\n",
    "logit3 = logit3.fit(X_train, y_train)\n",
    "\n",
    "print(logit3.coef_)\n",
    "print(logit.coef_)\n",
    "print(logit3.score(X_train, y_train))"
   ]
  },
  {
   "cell_type": "code",
   "execution_count": 76,
   "metadata": {},
   "outputs": [],
   "source": [
    "y_pred = logit3.predict(X_train)\n",
    "y_pred_proba = logit3.predict_proba(X_train)"
   ]
  },
  {
   "cell_type": "code",
   "execution_count": 77,
   "metadata": {},
   "outputs": [
    {
     "data": {
      "text/plain": [
       "0.9033816425120773"
      ]
     },
     "execution_count": 77,
     "metadata": {},
     "output_type": "execute_result"
    }
   ],
   "source": [
    "# evaluate\n",
    "\n",
    "logit3.score(X_train, y_train)"
   ]
  },
  {
   "cell_type": "code",
   "execution_count": 78,
   "metadata": {},
   "outputs": [
    {
     "ename": "NameError",
     "evalue": "name 'y_pred3' is not defined",
     "output_type": "error",
     "traceback": [
      "\u001b[0;31m---------------------------------------------------------------------------\u001b[0m",
      "\u001b[0;31mNameError\u001b[0m                                 Traceback (most recent call last)",
      "\u001b[0;32m<ipython-input-78-47a053ff7442>\u001b[0m in \u001b[0;36m<module>\u001b[0;34m\u001b[0m\n\u001b[0;32m----> 1\u001b[0;31m \u001b[0mprint\u001b[0m\u001b[0;34m(\u001b[0m\u001b[0mconfusion_matrix\u001b[0m\u001b[0;34m(\u001b[0m\u001b[0my_train\u001b[0m\u001b[0;34m,\u001b[0m \u001b[0my_pred3\u001b[0m\u001b[0;34m)\u001b[0m\u001b[0;34m)\u001b[0m\u001b[0;34m\u001b[0m\u001b[0;34m\u001b[0m\u001b[0m\n\u001b[0m",
      "\u001b[0;31mNameError\u001b[0m: name 'y_pred3' is not defined"
     ]
    }
   ],
   "source": [
    "print(confusion_matrix(y_train, y_pred3))\n"
   ]
  },
  {
   "cell_type": "code",
   "execution_count": null,
   "metadata": {},
   "outputs": [],
   "source": []
  }
 ],
 "metadata": {
  "kernelspec": {
   "display_name": "Python 3",
   "language": "python",
   "name": "python3"
  },
  "language_info": {
   "codemirror_mode": {
    "name": "ipython",
    "version": 3
   },
   "file_extension": ".py",
   "mimetype": "text/x-python",
   "name": "python",
   "nbconvert_exporter": "python",
   "pygments_lexer": "ipython3",
   "version": "3.7.9"
  }
 },
 "nbformat": 4,
 "nbformat_minor": 4
}
