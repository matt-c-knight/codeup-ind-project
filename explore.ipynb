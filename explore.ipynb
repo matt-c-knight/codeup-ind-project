{
 "cells": [
  {
   "cell_type": "code",
   "execution_count": 1,
   "metadata": {},
   "outputs": [],
   "source": [
    "import pandas as pd\n",
    "import acquire\n",
    "import matplotlib.pyplot as plt\n",
    "import seaborn as sns\n",
    "from scipy import stats\n",
    "import sklearn.preprocessing\n",
    "from sklearn.model_selection import train_test_split\n"
   ]
  },
  {
   "cell_type": "markdown",
   "metadata": {},
   "source": [
    "# Acquire"
   ]
  },
  {
   "cell_type": "code",
   "execution_count": 2,
   "metadata": {},
   "outputs": [],
   "source": [
    "df = acquire.new_world_data()"
   ]
  },
  {
   "cell_type": "code",
   "execution_count": 3,
   "metadata": {},
   "outputs": [
    {
     "data": {
      "text/html": [
       "<div>\n",
       "<style scoped>\n",
       "    .dataframe tbody tr th:only-of-type {\n",
       "        vertical-align: middle;\n",
       "    }\n",
       "\n",
       "    .dataframe tbody tr th {\n",
       "        vertical-align: top;\n",
       "    }\n",
       "\n",
       "    .dataframe thead th {\n",
       "        text-align: right;\n",
       "    }\n",
       "</style>\n",
       "<table border=\"1\" class=\"dataframe\">\n",
       "  <thead>\n",
       "    <tr style=\"text-align: right;\">\n",
       "      <th></th>\n",
       "      <th>code</th>\n",
       "      <th>countryname</th>\n",
       "      <th>continent</th>\n",
       "      <th>region</th>\n",
       "      <th>surfacearea</th>\n",
       "      <th>countrypopulation</th>\n",
       "      <th>lifeexpectancy</th>\n",
       "      <th>gnp</th>\n",
       "      <th>cityname</th>\n",
       "      <th>citypopulation</th>\n",
       "    </tr>\n",
       "  </thead>\n",
       "  <tbody>\n",
       "    <tr>\n",
       "      <th>0</th>\n",
       "      <td>ABW</td>\n",
       "      <td>Aruba</td>\n",
       "      <td>North America</td>\n",
       "      <td>Caribbean</td>\n",
       "      <td>193.0</td>\n",
       "      <td>103000</td>\n",
       "      <td>78.4</td>\n",
       "      <td>828.0</td>\n",
       "      <td>Oranjestad</td>\n",
       "      <td>29034</td>\n",
       "    </tr>\n",
       "  </tbody>\n",
       "</table>\n",
       "</div>"
      ],
      "text/plain": [
       "  code countryname      continent     region  surfacearea  countrypopulation  \\\n",
       "0  ABW       Aruba  North America  Caribbean        193.0             103000   \n",
       "\n",
       "   lifeexpectancy    gnp    cityname  citypopulation  \n",
       "0            78.4  828.0  Oranjestad           29034  "
      ]
     },
     "execution_count": 3,
     "metadata": {},
     "output_type": "execute_result"
    }
   ],
   "source": [
    "#checking to see if data was imported properly from sql and acquire file\n",
    "df.head(1)"
   ]
  },
  {
   "cell_type": "markdown",
   "metadata": {},
   "source": [
    "# Prepare"
   ]
  },
  {
   "cell_type": "code",
   "execution_count": 4,
   "metadata": {},
   "outputs": [
    {
     "name": "stdout",
     "output_type": "stream",
     "text": [
      "<class 'pandas.core.frame.DataFrame'>\n",
      "RangeIndex: 4079 entries, 0 to 4078\n",
      "Data columns (total 10 columns):\n",
      " #   Column             Non-Null Count  Dtype  \n",
      "---  ------             --------------  -----  \n",
      " 0   code               4079 non-null   object \n",
      " 1   countryname        4079 non-null   object \n",
      " 2   continent          4079 non-null   object \n",
      " 3   region             4079 non-null   object \n",
      " 4   surfacearea        4079 non-null   float64\n",
      " 5   countrypopulation  4079 non-null   int64  \n",
      " 6   lifeexpectancy     4068 non-null   float64\n",
      " 7   gnp                4079 non-null   float64\n",
      " 8   cityname           4079 non-null   object \n",
      " 9   citypopulation     4079 non-null   int64  \n",
      "dtypes: float64(3), int64(2), object(5)\n",
      "memory usage: 318.8+ KB\n"
     ]
    }
   ],
   "source": [
    "df.info()"
   ]
  },
  {
   "cell_type": "code",
   "execution_count": 5,
   "metadata": {},
   "outputs": [
    {
     "data": {
      "text/html": [
       "<div>\n",
       "<style scoped>\n",
       "    .dataframe tbody tr th:only-of-type {\n",
       "        vertical-align: middle;\n",
       "    }\n",
       "\n",
       "    .dataframe tbody tr th {\n",
       "        vertical-align: top;\n",
       "    }\n",
       "\n",
       "    .dataframe thead th {\n",
       "        text-align: right;\n",
       "    }\n",
       "</style>\n",
       "<table border=\"1\" class=\"dataframe\">\n",
       "  <thead>\n",
       "    <tr style=\"text-align: right;\">\n",
       "      <th></th>\n",
       "      <th>code</th>\n",
       "      <th>countryname</th>\n",
       "      <th>continent</th>\n",
       "      <th>region</th>\n",
       "      <th>surfacearea</th>\n",
       "      <th>countrypopulation</th>\n",
       "      <th>lifeexpectancy</th>\n",
       "      <th>gnp</th>\n",
       "      <th>cityname</th>\n",
       "      <th>citypopulation</th>\n",
       "    </tr>\n",
       "  </thead>\n",
       "  <tbody>\n",
       "    <tr>\n",
       "      <th>496</th>\n",
       "      <td>CCK</td>\n",
       "      <td>Cocos (Keeling) Islands</td>\n",
       "      <td>Oceania</td>\n",
       "      <td>Australia and New Zealand</td>\n",
       "      <td>14.0</td>\n",
       "      <td>600</td>\n",
       "      <td>NaN</td>\n",
       "      <td>0.0</td>\n",
       "      <td>Bantam</td>\n",
       "      <td>503</td>\n",
       "    </tr>\n",
       "    <tr>\n",
       "      <th>497</th>\n",
       "      <td>CCK</td>\n",
       "      <td>Cocos (Keeling) Islands</td>\n",
       "      <td>Oceania</td>\n",
       "      <td>Australia and New Zealand</td>\n",
       "      <td>14.0</td>\n",
       "      <td>600</td>\n",
       "      <td>NaN</td>\n",
       "      <td>0.0</td>\n",
       "      <td>West Island</td>\n",
       "      <td>167</td>\n",
       "    </tr>\n",
       "    <tr>\n",
       "      <th>983</th>\n",
       "      <td>CXR</td>\n",
       "      <td>Christmas Island</td>\n",
       "      <td>Oceania</td>\n",
       "      <td>Australia and New Zealand</td>\n",
       "      <td>135.0</td>\n",
       "      <td>2500</td>\n",
       "      <td>NaN</td>\n",
       "      <td>0.0</td>\n",
       "      <td>Flying Fish Cove</td>\n",
       "      <td>700</td>\n",
       "    </tr>\n",
       "    <tr>\n",
       "      <th>1251</th>\n",
       "      <td>FLK</td>\n",
       "      <td>Falkland Islands</td>\n",
       "      <td>South America</td>\n",
       "      <td>South America</td>\n",
       "      <td>12173.0</td>\n",
       "      <td>2000</td>\n",
       "      <td>NaN</td>\n",
       "      <td>0.0</td>\n",
       "      <td>Stanley</td>\n",
       "      <td>1636</td>\n",
       "    </tr>\n",
       "    <tr>\n",
       "      <th>2689</th>\n",
       "      <td>NFK</td>\n",
       "      <td>Norfolk Island</td>\n",
       "      <td>Oceania</td>\n",
       "      <td>Australia and New Zealand</td>\n",
       "      <td>36.0</td>\n",
       "      <td>2000</td>\n",
       "      <td>NaN</td>\n",
       "      <td>0.0</td>\n",
       "      <td>Kingston</td>\n",
       "      <td>800</td>\n",
       "    </tr>\n",
       "    <tr>\n",
       "      <th>2758</th>\n",
       "      <td>NIU</td>\n",
       "      <td>Niue</td>\n",
       "      <td>Oceania</td>\n",
       "      <td>Polynesia</td>\n",
       "      <td>260.0</td>\n",
       "      <td>2000</td>\n",
       "      <td>NaN</td>\n",
       "      <td>0.0</td>\n",
       "      <td>Alofi</td>\n",
       "      <td>682</td>\n",
       "    </tr>\n",
       "    <tr>\n",
       "      <th>2874</th>\n",
       "      <td>PCN</td>\n",
       "      <td>Pitcairn</td>\n",
       "      <td>Oceania</td>\n",
       "      <td>Polynesia</td>\n",
       "      <td>49.0</td>\n",
       "      <td>50</td>\n",
       "      <td>NaN</td>\n",
       "      <td>0.0</td>\n",
       "      <td>Adamstown</td>\n",
       "      <td>42</td>\n",
       "    </tr>\n",
       "    <tr>\n",
       "      <th>3387</th>\n",
       "      <td>SJM</td>\n",
       "      <td>Svalbard and Jan Mayen</td>\n",
       "      <td>Europe</td>\n",
       "      <td>Nordic Countries</td>\n",
       "      <td>62422.0</td>\n",
       "      <td>3200</td>\n",
       "      <td>NaN</td>\n",
       "      <td>0.0</td>\n",
       "      <td>Longyearbyen</td>\n",
       "      <td>1438</td>\n",
       "    </tr>\n",
       "    <tr>\n",
       "      <th>3456</th>\n",
       "      <td>TKL</td>\n",
       "      <td>Tokelau</td>\n",
       "      <td>Oceania</td>\n",
       "      <td>Polynesia</td>\n",
       "      <td>12.0</td>\n",
       "      <td>2000</td>\n",
       "      <td>NaN</td>\n",
       "      <td>0.0</td>\n",
       "      <td>Fakaofo</td>\n",
       "      <td>300</td>\n",
       "    </tr>\n",
       "    <tr>\n",
       "      <th>3938</th>\n",
       "      <td>VAT</td>\n",
       "      <td>Holy See (Vatican City State)</td>\n",
       "      <td>Europe</td>\n",
       "      <td>Southern Europe</td>\n",
       "      <td>0.4</td>\n",
       "      <td>1000</td>\n",
       "      <td>NaN</td>\n",
       "      <td>9.0</td>\n",
       "      <td>Città del Vaticano</td>\n",
       "      <td>455</td>\n",
       "    </tr>\n",
       "    <tr>\n",
       "      <th>4006</th>\n",
       "      <td>WLF</td>\n",
       "      <td>Wallis and Futuna</td>\n",
       "      <td>Oceania</td>\n",
       "      <td>Polynesia</td>\n",
       "      <td>200.0</td>\n",
       "      <td>15000</td>\n",
       "      <td>NaN</td>\n",
       "      <td>0.0</td>\n",
       "      <td>Mata-Utu</td>\n",
       "      <td>1137</td>\n",
       "    </tr>\n",
       "  </tbody>\n",
       "</table>\n",
       "</div>"
      ],
      "text/plain": [
       "     code                    countryname      continent  \\\n",
       "496   CCK        Cocos (Keeling) Islands        Oceania   \n",
       "497   CCK        Cocos (Keeling) Islands        Oceania   \n",
       "983   CXR               Christmas Island        Oceania   \n",
       "1251  FLK               Falkland Islands  South America   \n",
       "2689  NFK                 Norfolk Island        Oceania   \n",
       "2758  NIU                           Niue        Oceania   \n",
       "2874  PCN                       Pitcairn        Oceania   \n",
       "3387  SJM         Svalbard and Jan Mayen         Europe   \n",
       "3456  TKL                        Tokelau        Oceania   \n",
       "3938  VAT  Holy See (Vatican City State)         Europe   \n",
       "4006  WLF              Wallis and Futuna        Oceania   \n",
       "\n",
       "                         region  surfacearea  countrypopulation  \\\n",
       "496   Australia and New Zealand         14.0                600   \n",
       "497   Australia and New Zealand         14.0                600   \n",
       "983   Australia and New Zealand        135.0               2500   \n",
       "1251              South America      12173.0               2000   \n",
       "2689  Australia and New Zealand         36.0               2000   \n",
       "2758                  Polynesia        260.0               2000   \n",
       "2874                  Polynesia         49.0                 50   \n",
       "3387           Nordic Countries      62422.0               3200   \n",
       "3456                  Polynesia         12.0               2000   \n",
       "3938            Southern Europe          0.4               1000   \n",
       "4006                  Polynesia        200.0              15000   \n",
       "\n",
       "      lifeexpectancy  gnp            cityname  citypopulation  \n",
       "496              NaN  0.0              Bantam             503  \n",
       "497              NaN  0.0         West Island             167  \n",
       "983              NaN  0.0    Flying Fish Cove             700  \n",
       "1251             NaN  0.0             Stanley            1636  \n",
       "2689             NaN  0.0            Kingston             800  \n",
       "2758             NaN  0.0               Alofi             682  \n",
       "2874             NaN  0.0           Adamstown              42  \n",
       "3387             NaN  0.0        Longyearbyen            1438  \n",
       "3456             NaN  0.0             Fakaofo             300  \n",
       "3938             NaN  9.0  Città del Vaticano             455  \n",
       "4006             NaN  0.0            Mata-Utu            1137  "
      ]
     },
     "execution_count": 5,
     "metadata": {},
     "output_type": "execute_result"
    }
   ],
   "source": [
    "df[df.lifeexpectancy.isnull()]"
   ]
  },
  {
   "cell_type": "markdown",
   "metadata": {},
   "source": [
    "- Only null values are from life expectancy, the target variable. Null values for continent are mostly related to Oceania. Not going to impute values. Dropping rows."
   ]
  },
  {
   "cell_type": "code",
   "execution_count": 6,
   "metadata": {},
   "outputs": [],
   "source": [
    "df.dropna(inplace=True)"
   ]
  },
  {
   "cell_type": "code",
   "execution_count": 7,
   "metadata": {},
   "outputs": [
    {
     "name": "stdout",
     "output_type": "stream",
     "text": [
      "<class 'pandas.core.frame.DataFrame'>\n",
      "Int64Index: 4068 entries, 0 to 4078\n",
      "Data columns (total 10 columns):\n",
      " #   Column             Non-Null Count  Dtype  \n",
      "---  ------             --------------  -----  \n",
      " 0   code               4068 non-null   object \n",
      " 1   countryname        4068 non-null   object \n",
      " 2   continent          4068 non-null   object \n",
      " 3   region             4068 non-null   object \n",
      " 4   surfacearea        4068 non-null   float64\n",
      " 5   countrypopulation  4068 non-null   int64  \n",
      " 6   lifeexpectancy     4068 non-null   float64\n",
      " 7   gnp                4068 non-null   float64\n",
      " 8   cityname           4068 non-null   object \n",
      " 9   citypopulation     4068 non-null   int64  \n",
      "dtypes: float64(3), int64(2), object(5)\n",
      "memory usage: 349.6+ KB\n"
     ]
    }
   ],
   "source": [
    "df.info()"
   ]
  },
  {
   "cell_type": "markdown",
   "metadata": {},
   "source": [
    "**No null values**"
   ]
  },
  {
   "cell_type": "code",
   "execution_count": 8,
   "metadata": {
    "scrolled": true
   },
   "outputs": [
    {
     "name": "stderr",
     "output_type": "stream",
     "text": [
      "/usr/local/anaconda3/lib/python3.7/site-packages/seaborn/distributions.py:2551: FutureWarning: `distplot` is a deprecated function and will be removed in a future version. Please adapt your code to use either `displot` (a figure-level function with similar flexibility) or `histplot` (an axes-level function for histograms).\n",
      "  warnings.warn(msg, FutureWarning)\n"
     ]
    },
    {
     "data": {
      "text/plain": [
       "<AxesSubplot:xlabel='lifeexpectancy', ylabel='Density'>"
      ]
     },
     "execution_count": 8,
     "metadata": {},
     "output_type": "execute_result"
    },
    {
     "data": {
      "image/png": "[encoded data removed]",
      "text/plain": [
       "<Figure size 432x288 with 1 Axes>"
      ]
     },
     "metadata": {
      "needs_background": "light"
     },
     "output_type": "display_data"
    }
   ],
   "source": [
    "sns.distplot(df.lifeexpectancy)\n"
   ]
  },
  {
   "cell_type": "code",
   "execution_count": 9,
   "metadata": {},
   "outputs": [],
   "source": [
    "# df[df.lifeexpectancy > 76]"
   ]
  },
  {
   "cell_type": "code",
   "execution_count": 10,
   "metadata": {},
   "outputs": [],
   "source": [
    "# df[df.lifeexpectancy <= 76]"
   ]
  },
  {
   "cell_type": "markdown",
   "metadata": {},
   "source": [
    "**Decided the split the highest life expectancy at 77. It is a minority of the world life expectancy and the U.S. life expectancy is 77.1, so I wan't to measure what factors contribute to a life expectancy below our own.**"
   ]
  },
  {
   "cell_type": "code",
   "execution_count": 11,
   "metadata": {},
   "outputs": [],
   "source": [
    ">>> df['highest_life_exp']=df['lifeexpectancy'].apply(lambda x: 1 if x >= 77 else 0)\n"
   ]
  },
  {
   "cell_type": "code",
   "execution_count": 12,
   "metadata": {},
   "outputs": [
    {
     "data": {
      "text/html": [
       "<div>\n",
       "<style scoped>\n",
       "    .dataframe tbody tr th:only-of-type {\n",
       "        vertical-align: middle;\n",
       "    }\n",
       "\n",
       "    .dataframe tbody tr th {\n",
       "        vertical-align: top;\n",
       "    }\n",
       "\n",
       "    .dataframe thead th {\n",
       "        text-align: right;\n",
       "    }\n",
       "</style>\n",
       "<table border=\"1\" class=\"dataframe\">\n",
       "  <thead>\n",
       "    <tr style=\"text-align: right;\">\n",
       "      <th></th>\n",
       "      <th>code</th>\n",
       "      <th>countryname</th>\n",
       "      <th>continent</th>\n",
       "      <th>region</th>\n",
       "      <th>surfacearea</th>\n",
       "      <th>countrypopulation</th>\n",
       "      <th>lifeexpectancy</th>\n",
       "      <th>gnp</th>\n",
       "      <th>cityname</th>\n",
       "      <th>citypopulation</th>\n",
       "      <th>highest_life_exp</th>\n",
       "    </tr>\n",
       "  </thead>\n",
       "  <tbody>\n",
       "    <tr>\n",
       "      <th>0</th>\n",
       "      <td>ABW</td>\n",
       "      <td>Aruba</td>\n",
       "      <td>North America</td>\n",
       "      <td>Caribbean</td>\n",
       "      <td>193.0</td>\n",
       "      <td>103000</td>\n",
       "      <td>78.4</td>\n",
       "      <td>828.0</td>\n",
       "      <td>Oranjestad</td>\n",
       "      <td>29034</td>\n",
       "      <td>1</td>\n",
       "    </tr>\n",
       "    <tr>\n",
       "      <th>1</th>\n",
       "      <td>AFG</td>\n",
       "      <td>Afghanistan</td>\n",
       "      <td>Asia</td>\n",
       "      <td>Southern and Central Asia</td>\n",
       "      <td>652090.0</td>\n",
       "      <td>22720000</td>\n",
       "      <td>45.9</td>\n",
       "      <td>5976.0</td>\n",
       "      <td>Kabul</td>\n",
       "      <td>1780000</td>\n",
       "      <td>0</td>\n",
       "    </tr>\n",
       "  </tbody>\n",
       "</table>\n",
       "</div>"
      ],
      "text/plain": [
       "  code  countryname      continent                     region  surfacearea  \\\n",
       "0  ABW        Aruba  North America                  Caribbean        193.0   \n",
       "1  AFG  Afghanistan           Asia  Southern and Central Asia     652090.0   \n",
       "\n",
       "   countrypopulation  lifeexpectancy     gnp    cityname  citypopulation  \\\n",
       "0             103000            78.4   828.0  Oranjestad           29034   \n",
       "1           22720000            45.9  5976.0       Kabul         1780000   \n",
       "\n",
       "   highest_life_exp  \n",
       "0                 1  \n",
       "1                 0  "
      ]
     },
     "execution_count": 12,
     "metadata": {},
     "output_type": "execute_result"
    }
   ],
   "source": [
    "df.head(2)"
   ]
  },
  {
   "cell_type": "code",
   "execution_count": 13,
   "metadata": {},
   "outputs": [],
   "source": [
    "#GNP is abbreviated. After doing calculations, I need to multiply gnp by a million to get actual figure. Will use this to determine gnp per capita.\n",
    "df['real_gnp'] = df.gnp * 1000000"
   ]
  },
  {
   "cell_type": "code",
   "execution_count": 14,
   "metadata": {},
   "outputs": [],
   "source": [
    "df['gnp_per_capita'] = round(df.real_gnp / df.countrypopulation, 2)"
   ]
  },
  {
   "cell_type": "code",
   "execution_count": 15,
   "metadata": {},
   "outputs": [
    {
     "data": {
      "text/html": [
       "<div>\n",
       "<style scoped>\n",
       "    .dataframe tbody tr th:only-of-type {\n",
       "        vertical-align: middle;\n",
       "    }\n",
       "\n",
       "    .dataframe tbody tr th {\n",
       "        vertical-align: top;\n",
       "    }\n",
       "\n",
       "    .dataframe thead th {\n",
       "        text-align: right;\n",
       "    }\n",
       "</style>\n",
       "<table border=\"1\" class=\"dataframe\">\n",
       "  <thead>\n",
       "    <tr style=\"text-align: right;\">\n",
       "      <th></th>\n",
       "      <th>code</th>\n",
       "      <th>countryname</th>\n",
       "      <th>continent</th>\n",
       "      <th>region</th>\n",
       "      <th>surfacearea</th>\n",
       "      <th>countrypopulation</th>\n",
       "      <th>lifeexpectancy</th>\n",
       "      <th>gnp</th>\n",
       "      <th>cityname</th>\n",
       "      <th>citypopulation</th>\n",
       "      <th>highest_life_exp</th>\n",
       "      <th>real_gnp</th>\n",
       "      <th>gnp_per_capita</th>\n",
       "    </tr>\n",
       "  </thead>\n",
       "  <tbody>\n",
       "    <tr>\n",
       "      <th>0</th>\n",
       "      <td>ABW</td>\n",
       "      <td>Aruba</td>\n",
       "      <td>North America</td>\n",
       "      <td>Caribbean</td>\n",
       "      <td>193.0</td>\n",
       "      <td>103000</td>\n",
       "      <td>78.4</td>\n",
       "      <td>828.0</td>\n",
       "      <td>Oranjestad</td>\n",
       "      <td>29034</td>\n",
       "      <td>1</td>\n",
       "      <td>8.280000e+08</td>\n",
       "      <td>8038.83</td>\n",
       "    </tr>\n",
       "    <tr>\n",
       "      <th>1</th>\n",
       "      <td>AFG</td>\n",
       "      <td>Afghanistan</td>\n",
       "      <td>Asia</td>\n",
       "      <td>Southern and Central Asia</td>\n",
       "      <td>652090.0</td>\n",
       "      <td>22720000</td>\n",
       "      <td>45.9</td>\n",
       "      <td>5976.0</td>\n",
       "      <td>Kabul</td>\n",
       "      <td>1780000</td>\n",
       "      <td>0</td>\n",
       "      <td>5.976000e+09</td>\n",
       "      <td>263.03</td>\n",
       "    </tr>\n",
       "  </tbody>\n",
       "</table>\n",
       "</div>"
      ],
      "text/plain": [
       "  code  countryname      continent                     region  surfacearea  \\\n",
       "0  ABW        Aruba  North America                  Caribbean        193.0   \n",
       "1  AFG  Afghanistan           Asia  Southern and Central Asia     652090.0   \n",
       "\n",
       "   countrypopulation  lifeexpectancy     gnp    cityname  citypopulation  \\\n",
       "0             103000            78.4   828.0  Oranjestad           29034   \n",
       "1           22720000            45.9  5976.0       Kabul         1780000   \n",
       "\n",
       "   highest_life_exp      real_gnp  gnp_per_capita  \n",
       "0                 1  8.280000e+08         8038.83  \n",
       "1                 0  5.976000e+09          263.03  "
      ]
     },
     "execution_count": 15,
     "metadata": {},
     "output_type": "execute_result"
    }
   ],
   "source": [
    "df.head(2)"
   ]
  },
  {
   "cell_type": "code",
   "execution_count": 16,
   "metadata": {},
   "outputs": [
    {
     "data": {
      "text/plain": [
       "3647    30574.77\n",
       "Name: gnp_per_capita, dtype: float64"
      ]
     },
     "execution_count": 16,
     "metadata": {},
     "output_type": "execute_result"
    }
   ],
   "source": [
    "df[df.countryname == 'United States'].gnp_per_capita.head(1)"
   ]
  },
  {
   "cell_type": "code",
   "execution_count": 17,
   "metadata": {},
   "outputs": [],
   "source": [
    "#After doing additional research, our gnp per capita was around $30k in 1996, \n",
    "# just to get an idea of how up to date this data is."
   ]
  },
  {
   "cell_type": "code",
   "execution_count": 18,
   "metadata": {},
   "outputs": [],
   "source": [
    "#Creating a column to determine how densly populated each country is to determine if that factors into life expectancy.\n",
    "df['population_density'] = df.countrypopulation / df.surfacearea"
   ]
  },
  {
   "cell_type": "code",
   "execution_count": 19,
   "metadata": {},
   "outputs": [
    {
     "data": {
      "text/html": [
       "<div>\n",
       "<style scoped>\n",
       "    .dataframe tbody tr th:only-of-type {\n",
       "        vertical-align: middle;\n",
       "    }\n",
       "\n",
       "    .dataframe tbody tr th {\n",
       "        vertical-align: top;\n",
       "    }\n",
       "\n",
       "    .dataframe thead th {\n",
       "        text-align: right;\n",
       "    }\n",
       "</style>\n",
       "<table border=\"1\" class=\"dataframe\">\n",
       "  <thead>\n",
       "    <tr style=\"text-align: right;\">\n",
       "      <th></th>\n",
       "      <th>code</th>\n",
       "      <th>countryname</th>\n",
       "      <th>continent</th>\n",
       "      <th>region</th>\n",
       "      <th>surfacearea</th>\n",
       "      <th>countrypopulation</th>\n",
       "      <th>lifeexpectancy</th>\n",
       "      <th>gnp</th>\n",
       "      <th>cityname</th>\n",
       "      <th>citypopulation</th>\n",
       "      <th>highest_life_exp</th>\n",
       "      <th>real_gnp</th>\n",
       "      <th>gnp_per_capita</th>\n",
       "      <th>population_density</th>\n",
       "    </tr>\n",
       "  </thead>\n",
       "  <tbody>\n",
       "    <tr>\n",
       "      <th>0</th>\n",
       "      <td>ABW</td>\n",
       "      <td>Aruba</td>\n",
       "      <td>North America</td>\n",
       "      <td>Caribbean</td>\n",
       "      <td>193.0</td>\n",
       "      <td>103000</td>\n",
       "      <td>78.4</td>\n",
       "      <td>828.0</td>\n",
       "      <td>Oranjestad</td>\n",
       "      <td>29034</td>\n",
       "      <td>1</td>\n",
       "      <td>8.280000e+08</td>\n",
       "      <td>8038.83</td>\n",
       "      <td>533.678756</td>\n",
       "    </tr>\n",
       "    <tr>\n",
       "      <th>1</th>\n",
       "      <td>AFG</td>\n",
       "      <td>Afghanistan</td>\n",
       "      <td>Asia</td>\n",
       "      <td>Southern and Central Asia</td>\n",
       "      <td>652090.0</td>\n",
       "      <td>22720000</td>\n",
       "      <td>45.9</td>\n",
       "      <td>5976.0</td>\n",
       "      <td>Kabul</td>\n",
       "      <td>1780000</td>\n",
       "      <td>0</td>\n",
       "      <td>5.976000e+09</td>\n",
       "      <td>263.03</td>\n",
       "      <td>34.841816</td>\n",
       "    </tr>\n",
       "  </tbody>\n",
       "</table>\n",
       "</div>"
      ],
      "text/plain": [
       "  code  countryname      continent                     region  surfacearea  \\\n",
       "0  ABW        Aruba  North America                  Caribbean        193.0   \n",
       "1  AFG  Afghanistan           Asia  Southern and Central Asia     652090.0   \n",
       "\n",
       "   countrypopulation  lifeexpectancy     gnp    cityname  citypopulation  \\\n",
       "0             103000            78.4   828.0  Oranjestad           29034   \n",
       "1           22720000            45.9  5976.0       Kabul         1780000   \n",
       "\n",
       "   highest_life_exp      real_gnp  gnp_per_capita  population_density  \n",
       "0                 1  8.280000e+08         8038.83          533.678756  \n",
       "1                 0  5.976000e+09          263.03           34.841816  "
      ]
     },
     "execution_count": 19,
     "metadata": {},
     "output_type": "execute_result"
    }
   ],
   "source": [
    "df.head(2)"
   ]
  },
  {
   "cell_type": "markdown",
   "metadata": {},
   "source": [
    "# Explore"
   ]
  },
  {
   "cell_type": "code",
   "execution_count": 20,
   "metadata": {},
   "outputs": [],
   "source": [
    "#Splitting data for exploration and modeling\n",
    "train_and_validate, test = train_test_split(df, random_state=123)\n",
    "train, validate = train_test_split(train_and_validate, random_state=123)"
   ]
  },
  {
   "cell_type": "code",
   "execution_count": 21,
   "metadata": {},
   "outputs": [
    {
     "data": {
      "text/plain": [
       "((2288, 14), (763, 14), (1017, 14))"
      ]
     },
     "execution_count": 21,
     "metadata": {},
     "output_type": "execute_result"
    }
   ],
   "source": [
    "train.shape, validate.shape, test.shape"
   ]
  },
  {
   "cell_type": "markdown",
   "metadata": {},
   "source": [
    "**Going to perform various aggregations and visualizations for exploration purposes**"
   ]
  },
  {
   "cell_type": "code",
   "execution_count": 26,
   "metadata": {},
   "outputs": [
    {
     "data": {
      "text/plain": [
       "continent\n",
       "North America    74.913425\n",
       "Oceania          73.851064\n",
       "Europe           73.637545\n",
       "Asia             69.518403\n",
       "South America    67.464392\n",
       "Africa           54.389344\n",
       "Name: lifeexpectancy, dtype: float64"
      ]
     },
     "execution_count": 26,
     "metadata": {},
     "output_type": "execute_result"
    }
   ],
   "source": [
    "df.groupby(['continent']).lifeexpectancy.mean().sort_values(ascending=False)"
   ]
  },
  {
   "cell_type": "code",
   "execution_count": 22,
   "metadata": {},
   "outputs": [
    {
     "data": {
      "text/plain": [
       "continent      region                   \n",
       "Oceania        Australia and New Zealand    79.017391\n",
       "Europe         Nordic Countries             78.517647\n",
       "               Southern Europe              78.074839\n",
       "               Western Europe               77.953226\n",
       "               British Islands              77.678313\n",
       "North America  North America                77.417431\n",
       "Asia           Eastern Asia                 75.102162\n",
       "North America  Caribbean                    72.998276\n",
       "Oceania        Polynesia                    71.787500\n",
       "North America  Central America              71.302551\n",
       "Asia           Middle East                  70.271839\n",
       "Europe         Baltic Countries             68.970000\n",
       "               Eastern Europe               68.394609\n",
       "Oceania        Micronesia                   67.600000\n",
       "South America  South America                67.464392\n",
       "Oceania        Melanesia                    67.140000\n",
       "Asia           Southeast Asia               67.124579\n",
       "Africa         Northern Africa              66.053922\n",
       "Asia           Southern and Central Asia    63.118198\n",
       "Africa         Western Africa               52.247619\n",
       "               Southern Africa              50.218367\n",
       "               Central Africa               49.007895\n",
       "               Eastern Africa               46.666667\n",
       "Name: lifeexpectancy, dtype: float64"
      ]
     },
     "execution_count": 22,
     "metadata": {},
     "output_type": "execute_result"
    }
   ],
   "source": [
    "df.groupby(['continent', 'region']).lifeexpectancy.mean().sort_values(ascending=False)"
   ]
  },
  {
   "cell_type": "code",
   "execution_count": 27,
   "metadata": {},
   "outputs": [],
   "source": [
    "#Western countries have the highest life expectancy on average. North America as a whole has a slightly lower avg than the region of NA due to Central America. Also for Europe, \n",
    "#their average is pulled down by the Baltic and Eastern European countries."
   ]
  },
  {
   "cell_type": "markdown",
   "metadata": {},
   "source": [
    "# Visualizations"
   ]
  },
  {
   "cell_type": "code",
   "execution_count": 51,
   "metadata": {},
   "outputs": [
    {
     "data": {
      "text/plain": [
       "Text(0.5, 0, 'Highest Life Expectancy')"
      ]
     },
     "execution_count": 51,
     "metadata": {},
     "output_type": "execute_result"
    },
    {
     "data": {
      "image/png": "[encoded data removed]",
      "text/plain": [
       "<Figure size 432x288 with 1 Axes>"
      ]
     },
     "metadata": {
      "needs_background": "light"
     },
     "output_type": "display_data"
    }
   ],
   "source": [
    "train.highest_life_exp.value_counts().plot.bar()\n",
    "plt.xlabel('Highest Life Expectancy')"
   ]
  },
  {
   "cell_type": "code",
   "execution_count": 53,
   "metadata": {},
   "outputs": [
    {
     "data": {
      "text/plain": [
       "<AxesSubplot:xlabel='gnp', ylabel='lifeexpectancy'>"
      ]
     },
     "execution_count": 53,
     "metadata": {},
     "output_type": "execute_result"
    },
    {
     "data": {
      "image/png": "[encoded data removed]",
      "text/plain": [
       "<Figure size 432x288 with 1 Axes>"
      ]
     },
     "metadata": {
      "needs_background": "light"
     },
     "output_type": "display_data"
    }
   ],
   "source": [
    "sns.regplot(data=train, x=\"gnp\", y=\"lifeexpectancy\", x_bins=6)"
   ]
  },
  {
   "cell_type": "code",
   "execution_count": 47,
   "metadata": {},
   "outputs": [
    {
     "data": {
      "text/plain": [
       "<AxesSubplot:xlabel='gnp_per_capita', ylabel='lifeexpectancy'>"
      ]
     },
     "execution_count": 47,
     "metadata": {},
     "output_type": "execute_result"
    },
    {
     "data": {
      "image/png": "[encoded data removed]",
      "text/plain": [
       "<Figure size 432x288 with 1 Axes>"
      ]
     },
     "metadata": {
      "needs_background": "light"
     },
     "output_type": "display_data"
    }
   ],
   "source": [
    "sns.scatterplot(data=train, x=\"gnp_per_capita\", y=\"lifeexpectancy\", x_bins=6)"
   ]
  },
  {
   "cell_type": "code",
   "execution_count": null,
   "metadata": {},
   "outputs": [],
   "source": []
  },
  {
   "cell_type": "code",
   "execution_count": 33,
   "metadata": {},
   "outputs": [
    {
     "data": {
      "text/plain": [
       "<AxesSubplot:xlabel='population_density', ylabel='lifeexpectancy'>"
      ]
     },
     "execution_count": 33,
     "metadata": {},
     "output_type": "execute_result"
    },
    {
     "data": {
      "image/png": "[encoded data removed]",
      "text/plain": [
       "<Figure size 432x288 with 1 Axes>"
      ]
     },
     "metadata": {
      "needs_background": "light"
     },
     "output_type": "display_data"
    }
   ],
   "source": [
    "sns.regplot(data=train, x=\"population_density\", y=\"lifeexpectancy\", x_bins=6)"
   ]
  },
  {
   "cell_type": "code",
   "execution_count": 38,
   "metadata": {},
   "outputs": [
    {
     "data": {
      "text/plain": [
       "<AxesSubplot:xlabel='countrypopulation', ylabel='lifeexpectancy'>"
      ]
     },
     "execution_count": 38,
     "metadata": {},
     "output_type": "execute_result"
    },
    {
     "data": {
      "image/png": "[encoded data removed]",
      "text/plain": [
       "<Figure size 432x288 with 1 Axes>"
      ]
     },
     "metadata": {
      "needs_background": "light"
     },
     "output_type": "display_data"
    }
   ],
   "source": [
    "sns.regplot(data=df, x=\"countrypopulation\", y=\"lifeexpectancy\", x_bins=4)"
   ]
  },
  {
   "cell_type": "code",
   "execution_count": 41,
   "metadata": {},
   "outputs": [
    {
     "data": {
      "image/png": "[encoded data removed]",
      "text/plain": [
       "<Figure size 1152x216 with 4 Axes>"
      ]
     },
     "metadata": {
      "needs_background": "light"
     },
     "output_type": "display_data"
    }
   ],
   "source": [
    "plt.figure(figsize=(16, 3))\n",
    "\n",
    "for i, col in enumerate(['gnp_per_capita', 'population_density', 'gnp', 'countrypopulation']):  \n",
    "    plot_number = i + 1 # i starts at 0, but plot nos should start at 1\n",
    "    series = train[col]  \n",
    "    plt.subplot(1,4, plot_number)\n",
    "    plt.title(col)\n",
    "    series.hist(bins=5)"
   ]
  },
  {
   "cell_type": "code",
   "execution_count": 42,
   "metadata": {},
   "outputs": [
    {
     "name": "stderr",
     "output_type": "stream",
     "text": [
      "/usr/local/anaconda3/lib/python3.7/site-packages/seaborn/_decorators.py:43: FutureWarning: Pass the following variables as keyword args: x, y. From version 0.12, the only valid positional argument will be `data`, and passing other arguments without an explicit keyword will result in an error or misinterpretation.\n",
      "  FutureWarning\n"
     ]
    },
    {
     "data": {
      "image/png": "[encoded data removed]",
      "text/plain": [
       "<Figure size 360x360 with 3 Axes>"
      ]
     },
     "metadata": {},
     "output_type": "display_data"
    }
   ],
   "source": [
    "with sns.axes_style('white'):\n",
    "    j = sns.jointplot(\"gnp_per_capita\", \"lifeexpectancy\", data=train, kind='reg', height=5);\n",
    "plt.show()"
   ]
  },
  {
   "cell_type": "code",
   "execution_count": 58,
   "metadata": {},
   "outputs": [],
   "source": [
    "train= train[['lifeexpectancy', 'highest_life_exp', 'gnp_per_capita', 'population_density', 'countrypopulation', 'gnp', 'citypopulation' ]]"
   ]
  },
  {
   "cell_type": "code",
   "execution_count": 61,
   "metadata": {},
   "outputs": [
    {
     "data": {
      "text/plain": [
       "<AxesSubplot:>"
      ]
     },
     "execution_count": 61,
     "metadata": {},
     "output_type": "execute_result"
    },
    {
     "data": {
      "image/png": "[encoded data removed]",
      "text/plain": [
       "<Figure size 576x432 with 2 Axes>"
      ]
     },
     "metadata": {
      "needs_background": "light"
     },
     "output_type": "display_data"
    }
   ],
   "source": [
    "plt.figure(figsize=(8,6))\n",
    "sns.heatmap(train.corr(), cmap='Blues', annot=True)\n"
   ]
  },
  {
   "cell_type": "code",
   "execution_count": null,
   "metadata": {},
   "outputs": [],
   "source": []
  }
 ],
 "metadata": {
  "kernelspec": {
   "display_name": "Python 3",
   "language": "python",
   "name": "python3"
  },
  "language_info": {
   "codemirror_mode": {
    "name": "ipython",
    "version": 3
   },
   "file_extension": ".py",
   "mimetype": "text/x-python",
   "name": "python",
   "nbconvert_exporter": "python",
   "pygments_lexer": "ipython3",
   "version": "3.7.9"
  }
 },
 "nbformat": 4,
 "nbformat_minor": 4
}
