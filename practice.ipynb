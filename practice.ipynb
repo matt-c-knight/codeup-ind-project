{
 "cells": [
  {
   "cell_type": "code",
   "execution_count": 1,
   "metadata": {},
   "outputs": [],
   "source": [
    "import pandas as pd\n",
    "import acquire\n",
    "import matplotlib.pyplot as plt\n"
   ]
  },
  {
   "cell_type": "code",
   "execution_count": 2,
   "metadata": {},
   "outputs": [],
   "source": [
    "df = acquire.new_world_data()"
   ]
  },
  {
   "cell_type": "code",
   "execution_count": 3,
   "metadata": {},
   "outputs": [
    {
     "data": {
      "text/html": [
       "<div>\n",
       "<style scoped>\n",
       "    .dataframe tbody tr th:only-of-type {\n",
       "        vertical-align: middle;\n",
       "    }\n",
       "\n",
       "    .dataframe tbody tr th {\n",
       "        vertical-align: top;\n",
       "    }\n",
       "\n",
       "    .dataframe thead th {\n",
       "        text-align: right;\n",
       "    }\n",
       "</style>\n",
       "<table border=\"1\" class=\"dataframe\">\n",
       "  <thead>\n",
       "    <tr style=\"text-align: right;\">\n",
       "      <th></th>\n",
       "      <th>Code</th>\n",
       "      <th>countryname</th>\n",
       "      <th>Continent</th>\n",
       "      <th>Region</th>\n",
       "      <th>SurfaceArea</th>\n",
       "      <th>countrypopulation</th>\n",
       "      <th>LifeExpectancy</th>\n",
       "      <th>GNP</th>\n",
       "      <th>cityname</th>\n",
       "      <th>citypopulation</th>\n",
       "    </tr>\n",
       "  </thead>\n",
       "  <tbody>\n",
       "    <tr>\n",
       "      <th>0</th>\n",
       "      <td>ABW</td>\n",
       "      <td>Aruba</td>\n",
       "      <td>North America</td>\n",
       "      <td>Caribbean</td>\n",
       "      <td>193.0</td>\n",
       "      <td>103000</td>\n",
       "      <td>78.4</td>\n",
       "      <td>828.0</td>\n",
       "      <td>Oranjestad</td>\n",
       "      <td>29034</td>\n",
       "    </tr>\n",
       "    <tr>\n",
       "      <th>1</th>\n",
       "      <td>AFG</td>\n",
       "      <td>Afghanistan</td>\n",
       "      <td>Asia</td>\n",
       "      <td>Southern and Central Asia</td>\n",
       "      <td>652090.0</td>\n",
       "      <td>22720000</td>\n",
       "      <td>45.9</td>\n",
       "      <td>5976.0</td>\n",
       "      <td>Kabul</td>\n",
       "      <td>1780000</td>\n",
       "    </tr>\n",
       "    <tr>\n",
       "      <th>2</th>\n",
       "      <td>AFG</td>\n",
       "      <td>Afghanistan</td>\n",
       "      <td>Asia</td>\n",
       "      <td>Southern and Central Asia</td>\n",
       "      <td>652090.0</td>\n",
       "      <td>22720000</td>\n",
       "      <td>45.9</td>\n",
       "      <td>5976.0</td>\n",
       "      <td>Qandahar</td>\n",
       "      <td>237500</td>\n",
       "    </tr>\n",
       "    <tr>\n",
       "      <th>3</th>\n",
       "      <td>AFG</td>\n",
       "      <td>Afghanistan</td>\n",
       "      <td>Asia</td>\n",
       "      <td>Southern and Central Asia</td>\n",
       "      <td>652090.0</td>\n",
       "      <td>22720000</td>\n",
       "      <td>45.9</td>\n",
       "      <td>5976.0</td>\n",
       "      <td>Herat</td>\n",
       "      <td>186800</td>\n",
       "    </tr>\n",
       "    <tr>\n",
       "      <th>4</th>\n",
       "      <td>AFG</td>\n",
       "      <td>Afghanistan</td>\n",
       "      <td>Asia</td>\n",
       "      <td>Southern and Central Asia</td>\n",
       "      <td>652090.0</td>\n",
       "      <td>22720000</td>\n",
       "      <td>45.9</td>\n",
       "      <td>5976.0</td>\n",
       "      <td>Mazar-e-Sharif</td>\n",
       "      <td>127800</td>\n",
       "    </tr>\n",
       "  </tbody>\n",
       "</table>\n",
       "</div>"
      ],
      "text/plain": [
       "  Code  countryname      Continent                     Region  SurfaceArea  \\\n",
       "0  ABW        Aruba  North America                  Caribbean        193.0   \n",
       "1  AFG  Afghanistan           Asia  Southern and Central Asia     652090.0   \n",
       "2  AFG  Afghanistan           Asia  Southern and Central Asia     652090.0   \n",
       "3  AFG  Afghanistan           Asia  Southern and Central Asia     652090.0   \n",
       "4  AFG  Afghanistan           Asia  Southern and Central Asia     652090.0   \n",
       "\n",
       "   countrypopulation  LifeExpectancy     GNP        cityname  citypopulation  \n",
       "0             103000            78.4   828.0      Oranjestad           29034  \n",
       "1           22720000            45.9  5976.0           Kabul         1780000  \n",
       "2           22720000            45.9  5976.0        Qandahar          237500  \n",
       "3           22720000            45.9  5976.0           Herat          186800  \n",
       "4           22720000            45.9  5976.0  Mazar-e-Sharif          127800  "
      ]
     },
     "execution_count": 3,
     "metadata": {},
     "output_type": "execute_result"
    }
   ],
   "source": [
    "df.head()"
   ]
  },
  {
   "cell_type": "code",
   "execution_count": 4,
   "metadata": {},
   "outputs": [
    {
     "data": {
      "text/plain": [
       "(4079, 10)"
      ]
     },
     "execution_count": 4,
     "metadata": {},
     "output_type": "execute_result"
    }
   ],
   "source": [
    "df.shape"
   ]
  },
  {
   "cell_type": "code",
   "execution_count": 5,
   "metadata": {},
   "outputs": [
    {
     "name": "stdout",
     "output_type": "stream",
     "text": [
      "<class 'pandas.core.frame.DataFrame'>\n",
      "RangeIndex: 4079 entries, 0 to 4078\n",
      "Data columns (total 10 columns):\n",
      " #   Column             Non-Null Count  Dtype  \n",
      "---  ------             --------------  -----  \n",
      " 0   Code               4079 non-null   object \n",
      " 1   countryname        4079 non-null   object \n",
      " 2   Continent          4079 non-null   object \n",
      " 3   Region             4079 non-null   object \n",
      " 4   SurfaceArea        4079 non-null   float64\n",
      " 5   countrypopulation  4079 non-null   int64  \n",
      " 6   LifeExpectancy     4068 non-null   float64\n",
      " 7   GNP                4079 non-null   float64\n",
      " 8   cityname           4079 non-null   object \n",
      " 9   citypopulation     4079 non-null   int64  \n",
      "dtypes: float64(3), int64(2), object(5)\n",
      "memory usage: 318.8+ KB\n"
     ]
    }
   ],
   "source": [
    "df.info()"
   ]
  },
  {
   "cell_type": "code",
   "execution_count": 6,
   "metadata": {},
   "outputs": [],
   "source": [
    "df.drop('Code', axis=1, inplace=True)"
   ]
  },
  {
   "cell_type": "code",
   "execution_count": 7,
   "metadata": {},
   "outputs": [
    {
     "name": "stdout",
     "output_type": "stream",
     "text": [
      "<class 'pandas.core.frame.DataFrame'>\n",
      "RangeIndex: 4079 entries, 0 to 4078\n",
      "Data columns (total 9 columns):\n",
      " #   Column             Non-Null Count  Dtype  \n",
      "---  ------             --------------  -----  \n",
      " 0   countryname        4079 non-null   object \n",
      " 1   Continent          4079 non-null   object \n",
      " 2   Region             4079 non-null   object \n",
      " 3   SurfaceArea        4079 non-null   float64\n",
      " 4   countrypopulation  4079 non-null   int64  \n",
      " 5   LifeExpectancy     4068 non-null   float64\n",
      " 6   GNP                4079 non-null   float64\n",
      " 7   cityname           4079 non-null   object \n",
      " 8   citypopulation     4079 non-null   int64  \n",
      "dtypes: float64(3), int64(2), object(4)\n",
      "memory usage: 286.9+ KB\n"
     ]
    }
   ],
   "source": [
    "df.info()"
   ]
  },
  {
   "cell_type": "code",
   "execution_count": 8,
   "metadata": {},
   "outputs": [],
   "source": [
    "null = df[df.LifeExpectancy.isnull()]"
   ]
  },
  {
   "cell_type": "code",
   "execution_count": 9,
   "metadata": {},
   "outputs": [
    {
     "data": {
      "text/plain": [
       "(11, 9)"
      ]
     },
     "execution_count": 9,
     "metadata": {},
     "output_type": "execute_result"
    }
   ],
   "source": [
    "null.shape"
   ]
  },
  {
   "cell_type": "code",
   "execution_count": 10,
   "metadata": {},
   "outputs": [
    {
     "data": {
      "text/html": [
       "<div>\n",
       "<style scoped>\n",
       "    .dataframe tbody tr th:only-of-type {\n",
       "        vertical-align: middle;\n",
       "    }\n",
       "\n",
       "    .dataframe tbody tr th {\n",
       "        vertical-align: top;\n",
       "    }\n",
       "\n",
       "    .dataframe thead th {\n",
       "        text-align: right;\n",
       "    }\n",
       "</style>\n",
       "<table border=\"1\" class=\"dataframe\">\n",
       "  <thead>\n",
       "    <tr style=\"text-align: right;\">\n",
       "      <th></th>\n",
       "      <th>countryname</th>\n",
       "      <th>Continent</th>\n",
       "      <th>Region</th>\n",
       "      <th>SurfaceArea</th>\n",
       "      <th>countrypopulation</th>\n",
       "      <th>LifeExpectancy</th>\n",
       "      <th>GNP</th>\n",
       "      <th>cityname</th>\n",
       "      <th>citypopulation</th>\n",
       "    </tr>\n",
       "  </thead>\n",
       "  <tbody>\n",
       "    <tr>\n",
       "      <th>496</th>\n",
       "      <td>Cocos (Keeling) Islands</td>\n",
       "      <td>Oceania</td>\n",
       "      <td>Australia and New Zealand</td>\n",
       "      <td>14.0</td>\n",
       "      <td>600</td>\n",
       "      <td>NaN</td>\n",
       "      <td>0.0</td>\n",
       "      <td>Bantam</td>\n",
       "      <td>503</td>\n",
       "    </tr>\n",
       "    <tr>\n",
       "      <th>497</th>\n",
       "      <td>Cocos (Keeling) Islands</td>\n",
       "      <td>Oceania</td>\n",
       "      <td>Australia and New Zealand</td>\n",
       "      <td>14.0</td>\n",
       "      <td>600</td>\n",
       "      <td>NaN</td>\n",
       "      <td>0.0</td>\n",
       "      <td>West Island</td>\n",
       "      <td>167</td>\n",
       "    </tr>\n",
       "    <tr>\n",
       "      <th>983</th>\n",
       "      <td>Christmas Island</td>\n",
       "      <td>Oceania</td>\n",
       "      <td>Australia and New Zealand</td>\n",
       "      <td>135.0</td>\n",
       "      <td>2500</td>\n",
       "      <td>NaN</td>\n",
       "      <td>0.0</td>\n",
       "      <td>Flying Fish Cove</td>\n",
       "      <td>700</td>\n",
       "    </tr>\n",
       "    <tr>\n",
       "      <th>1251</th>\n",
       "      <td>Falkland Islands</td>\n",
       "      <td>South America</td>\n",
       "      <td>South America</td>\n",
       "      <td>12173.0</td>\n",
       "      <td>2000</td>\n",
       "      <td>NaN</td>\n",
       "      <td>0.0</td>\n",
       "      <td>Stanley</td>\n",
       "      <td>1636</td>\n",
       "    </tr>\n",
       "    <tr>\n",
       "      <th>2689</th>\n",
       "      <td>Norfolk Island</td>\n",
       "      <td>Oceania</td>\n",
       "      <td>Australia and New Zealand</td>\n",
       "      <td>36.0</td>\n",
       "      <td>2000</td>\n",
       "      <td>NaN</td>\n",
       "      <td>0.0</td>\n",
       "      <td>Kingston</td>\n",
       "      <td>800</td>\n",
       "    </tr>\n",
       "    <tr>\n",
       "      <th>2758</th>\n",
       "      <td>Niue</td>\n",
       "      <td>Oceania</td>\n",
       "      <td>Polynesia</td>\n",
       "      <td>260.0</td>\n",
       "      <td>2000</td>\n",
       "      <td>NaN</td>\n",
       "      <td>0.0</td>\n",
       "      <td>Alofi</td>\n",
       "      <td>682</td>\n",
       "    </tr>\n",
       "    <tr>\n",
       "      <th>2874</th>\n",
       "      <td>Pitcairn</td>\n",
       "      <td>Oceania</td>\n",
       "      <td>Polynesia</td>\n",
       "      <td>49.0</td>\n",
       "      <td>50</td>\n",
       "      <td>NaN</td>\n",
       "      <td>0.0</td>\n",
       "      <td>Adamstown</td>\n",
       "      <td>42</td>\n",
       "    </tr>\n",
       "    <tr>\n",
       "      <th>3387</th>\n",
       "      <td>Svalbard and Jan Mayen</td>\n",
       "      <td>Europe</td>\n",
       "      <td>Nordic Countries</td>\n",
       "      <td>62422.0</td>\n",
       "      <td>3200</td>\n",
       "      <td>NaN</td>\n",
       "      <td>0.0</td>\n",
       "      <td>Longyearbyen</td>\n",
       "      <td>1438</td>\n",
       "    </tr>\n",
       "    <tr>\n",
       "      <th>3456</th>\n",
       "      <td>Tokelau</td>\n",
       "      <td>Oceania</td>\n",
       "      <td>Polynesia</td>\n",
       "      <td>12.0</td>\n",
       "      <td>2000</td>\n",
       "      <td>NaN</td>\n",
       "      <td>0.0</td>\n",
       "      <td>Fakaofo</td>\n",
       "      <td>300</td>\n",
       "    </tr>\n",
       "    <tr>\n",
       "      <th>3938</th>\n",
       "      <td>Holy See (Vatican City State)</td>\n",
       "      <td>Europe</td>\n",
       "      <td>Southern Europe</td>\n",
       "      <td>0.4</td>\n",
       "      <td>1000</td>\n",
       "      <td>NaN</td>\n",
       "      <td>9.0</td>\n",
       "      <td>Città del Vaticano</td>\n",
       "      <td>455</td>\n",
       "    </tr>\n",
       "    <tr>\n",
       "      <th>4006</th>\n",
       "      <td>Wallis and Futuna</td>\n",
       "      <td>Oceania</td>\n",
       "      <td>Polynesia</td>\n",
       "      <td>200.0</td>\n",
       "      <td>15000</td>\n",
       "      <td>NaN</td>\n",
       "      <td>0.0</td>\n",
       "      <td>Mata-Utu</td>\n",
       "      <td>1137</td>\n",
       "    </tr>\n",
       "  </tbody>\n",
       "</table>\n",
       "</div>"
      ],
      "text/plain": [
       "                        countryname      Continent                     Region  \\\n",
       "496         Cocos (Keeling) Islands        Oceania  Australia and New Zealand   \n",
       "497         Cocos (Keeling) Islands        Oceania  Australia and New Zealand   \n",
       "983                Christmas Island        Oceania  Australia and New Zealand   \n",
       "1251               Falkland Islands  South America              South America   \n",
       "2689                 Norfolk Island        Oceania  Australia and New Zealand   \n",
       "2758                           Niue        Oceania                  Polynesia   \n",
       "2874                       Pitcairn        Oceania                  Polynesia   \n",
       "3387         Svalbard and Jan Mayen         Europe           Nordic Countries   \n",
       "3456                        Tokelau        Oceania                  Polynesia   \n",
       "3938  Holy See (Vatican City State)         Europe            Southern Europe   \n",
       "4006              Wallis and Futuna        Oceania                  Polynesia   \n",
       "\n",
       "      SurfaceArea  countrypopulation  LifeExpectancy  GNP            cityname  \\\n",
       "496          14.0                600             NaN  0.0              Bantam   \n",
       "497          14.0                600             NaN  0.0         West Island   \n",
       "983         135.0               2500             NaN  0.0    Flying Fish Cove   \n",
       "1251      12173.0               2000             NaN  0.0             Stanley   \n",
       "2689         36.0               2000             NaN  0.0            Kingston   \n",
       "2758        260.0               2000             NaN  0.0               Alofi   \n",
       "2874         49.0                 50             NaN  0.0           Adamstown   \n",
       "3387      62422.0               3200             NaN  0.0        Longyearbyen   \n",
       "3456         12.0               2000             NaN  0.0             Fakaofo   \n",
       "3938          0.4               1000             NaN  9.0  Città del Vaticano   \n",
       "4006        200.0              15000             NaN  0.0            Mata-Utu   \n",
       "\n",
       "      citypopulation  \n",
       "496              503  \n",
       "497              167  \n",
       "983              700  \n",
       "1251            1636  \n",
       "2689             800  \n",
       "2758             682  \n",
       "2874              42  \n",
       "3387            1438  \n",
       "3456             300  \n",
       "3938             455  \n",
       "4006            1137  "
      ]
     },
     "execution_count": 10,
     "metadata": {},
     "output_type": "execute_result"
    }
   ],
   "source": [
    "null"
   ]
  },
  {
   "cell_type": "code",
   "execution_count": 11,
   "metadata": {},
   "outputs": [],
   "source": [
    "df.dropna(inplace=True)"
   ]
  },
  {
   "cell_type": "code",
   "execution_count": 12,
   "metadata": {},
   "outputs": [
    {
     "name": "stdout",
     "output_type": "stream",
     "text": [
      "<class 'pandas.core.frame.DataFrame'>\n",
      "Int64Index: 4068 entries, 0 to 4078\n",
      "Data columns (total 9 columns):\n",
      " #   Column             Non-Null Count  Dtype  \n",
      "---  ------             --------------  -----  \n",
      " 0   countryname        4068 non-null   object \n",
      " 1   Continent          4068 non-null   object \n",
      " 2   Region             4068 non-null   object \n",
      " 3   SurfaceArea        4068 non-null   float64\n",
      " 4   countrypopulation  4068 non-null   int64  \n",
      " 5   LifeExpectancy     4068 non-null   float64\n",
      " 6   GNP                4068 non-null   float64\n",
      " 7   cityname           4068 non-null   object \n",
      " 8   citypopulation     4068 non-null   int64  \n",
      "dtypes: float64(3), int64(2), object(4)\n",
      "memory usage: 317.8+ KB\n"
     ]
    }
   ],
   "source": [
    "df.info()"
   ]
  },
  {
   "cell_type": "code",
   "execution_count": 13,
   "metadata": {},
   "outputs": [],
   "source": [
    "df = df.rename(columns={'Region': 'region', 'SurfaceArea': 'surfacearea', 'LifeExpectancy': 'lifeexpectancy', 'GNP': 'gnp'})\n"
   ]
  },
  {
   "cell_type": "code",
   "execution_count": 14,
   "metadata": {},
   "outputs": [],
   "source": [
    "df = df.rename(columns={'Continent': 'continent'})"
   ]
  },
  {
   "cell_type": "code",
   "execution_count": 15,
   "metadata": {},
   "outputs": [
    {
     "data": {
      "text/html": [
       "<div>\n",
       "<style scoped>\n",
       "    .dataframe tbody tr th:only-of-type {\n",
       "        vertical-align: middle;\n",
       "    }\n",
       "\n",
       "    .dataframe tbody tr th {\n",
       "        vertical-align: top;\n",
       "    }\n",
       "\n",
       "    .dataframe thead th {\n",
       "        text-align: right;\n",
       "    }\n",
       "</style>\n",
       "<table border=\"1\" class=\"dataframe\">\n",
       "  <thead>\n",
       "    <tr style=\"text-align: right;\">\n",
       "      <th></th>\n",
       "      <th>countryname</th>\n",
       "      <th>continent</th>\n",
       "      <th>region</th>\n",
       "      <th>surfacearea</th>\n",
       "      <th>countrypopulation</th>\n",
       "      <th>lifeexpectancy</th>\n",
       "      <th>gnp</th>\n",
       "      <th>cityname</th>\n",
       "      <th>citypopulation</th>\n",
       "    </tr>\n",
       "  </thead>\n",
       "  <tbody>\n",
       "    <tr>\n",
       "      <th>0</th>\n",
       "      <td>Aruba</td>\n",
       "      <td>North America</td>\n",
       "      <td>Caribbean</td>\n",
       "      <td>193.0</td>\n",
       "      <td>103000</td>\n",
       "      <td>78.4</td>\n",
       "      <td>828.0</td>\n",
       "      <td>Oranjestad</td>\n",
       "      <td>29034</td>\n",
       "    </tr>\n",
       "    <tr>\n",
       "      <th>1</th>\n",
       "      <td>Afghanistan</td>\n",
       "      <td>Asia</td>\n",
       "      <td>Southern and Central Asia</td>\n",
       "      <td>652090.0</td>\n",
       "      <td>22720000</td>\n",
       "      <td>45.9</td>\n",
       "      <td>5976.0</td>\n",
       "      <td>Kabul</td>\n",
       "      <td>1780000</td>\n",
       "    </tr>\n",
       "    <tr>\n",
       "      <th>2</th>\n",
       "      <td>Afghanistan</td>\n",
       "      <td>Asia</td>\n",
       "      <td>Southern and Central Asia</td>\n",
       "      <td>652090.0</td>\n",
       "      <td>22720000</td>\n",
       "      <td>45.9</td>\n",
       "      <td>5976.0</td>\n",
       "      <td>Qandahar</td>\n",
       "      <td>237500</td>\n",
       "    </tr>\n",
       "    <tr>\n",
       "      <th>3</th>\n",
       "      <td>Afghanistan</td>\n",
       "      <td>Asia</td>\n",
       "      <td>Southern and Central Asia</td>\n",
       "      <td>652090.0</td>\n",
       "      <td>22720000</td>\n",
       "      <td>45.9</td>\n",
       "      <td>5976.0</td>\n",
       "      <td>Herat</td>\n",
       "      <td>186800</td>\n",
       "    </tr>\n",
       "    <tr>\n",
       "      <th>4</th>\n",
       "      <td>Afghanistan</td>\n",
       "      <td>Asia</td>\n",
       "      <td>Southern and Central Asia</td>\n",
       "      <td>652090.0</td>\n",
       "      <td>22720000</td>\n",
       "      <td>45.9</td>\n",
       "      <td>5976.0</td>\n",
       "      <td>Mazar-e-Sharif</td>\n",
       "      <td>127800</td>\n",
       "    </tr>\n",
       "  </tbody>\n",
       "</table>\n",
       "</div>"
      ],
      "text/plain": [
       "   countryname      continent                     region  surfacearea  \\\n",
       "0        Aruba  North America                  Caribbean        193.0   \n",
       "1  Afghanistan           Asia  Southern and Central Asia     652090.0   \n",
       "2  Afghanistan           Asia  Southern and Central Asia     652090.0   \n",
       "3  Afghanistan           Asia  Southern and Central Asia     652090.0   \n",
       "4  Afghanistan           Asia  Southern and Central Asia     652090.0   \n",
       "\n",
       "   countrypopulation  lifeexpectancy     gnp        cityname  citypopulation  \n",
       "0             103000            78.4   828.0      Oranjestad           29034  \n",
       "1           22720000            45.9  5976.0           Kabul         1780000  \n",
       "2           22720000            45.9  5976.0        Qandahar          237500  \n",
       "3           22720000            45.9  5976.0           Herat          186800  \n",
       "4           22720000            45.9  5976.0  Mazar-e-Sharif          127800  "
      ]
     },
     "execution_count": 15,
     "metadata": {},
     "output_type": "execute_result"
    }
   ],
   "source": [
    "df.head()"
   ]
  },
  {
   "cell_type": "code",
   "execution_count": 16,
   "metadata": {},
   "outputs": [],
   "source": [
    "import seaborn as sns\n",
    "from scipy import stats"
   ]
  },
  {
   "cell_type": "code",
   "execution_count": 17,
   "metadata": {},
   "outputs": [
    {
     "data": {
      "text/plain": [
       "<AxesSubplot:xlabel='gnp', ylabel='lifeexpectancy'>"
      ]
     },
     "execution_count": 17,
     "metadata": {},
     "output_type": "execute_result"
    },
    {
     "data": {
      "image/png": "[encoded data removed]",
      "text/plain": [
       "<Figure size 432x288 with 1 Axes>"
      ]
     },
     "metadata": {
      "needs_background": "light"
     },
     "output_type": "display_data"
    }
   ],
   "source": [
    "sns.regplot(data=df, x=\"gnp\", y=\"lifeexpectancy\", x_bins=6)"
   ]
  },
  {
   "cell_type": "code",
   "execution_count": 18,
   "metadata": {},
   "outputs": [
    {
     "data": {
      "text/plain": [
       "<AxesSubplot:xlabel='surfacearea', ylabel='lifeexpectancy'>"
      ]
     },
     "execution_count": 18,
     "metadata": {},
     "output_type": "execute_result"
    },
    {
     "data": {
      "image/png": "[encoded data removed]",
      "text/plain": [
       "<Figure size 432x288 with 1 Axes>"
      ]
     },
     "metadata": {
      "needs_background": "light"
     },
     "output_type": "display_data"
    }
   ],
   "source": [
    "sns.regplot(data=df, x=\"surfacearea\", y=\"lifeexpectancy\")"
   ]
  },
  {
   "cell_type": "code",
   "execution_count": 19,
   "metadata": {},
   "outputs": [
    {
     "data": {
      "text/plain": [
       "<AxesSubplot:xlabel='countrypopulation', ylabel='lifeexpectancy'>"
      ]
     },
     "execution_count": 19,
     "metadata": {},
     "output_type": "execute_result"
    },
    {
     "data": {
      "image/png": "[encoded data removed]",
      "text/plain": [
       "<Figure size 432x288 with 1 Axes>"
      ]
     },
     "metadata": {
      "needs_background": "light"
     },
     "output_type": "display_data"
    }
   ],
   "source": [
    "sns.regplot(data=df, x=\"countrypopulation\", y=\"lifeexpectancy\", x_bins=4)"
   ]
  },
  {
   "cell_type": "code",
   "execution_count": 20,
   "metadata": {},
   "outputs": [],
   "source": [
    "alpha = .05"
   ]
  },
  {
   "cell_type": "code",
   "execution_count": 21,
   "metadata": {},
   "outputs": [],
   "source": [
    "x = df.gnp\n",
    "y = df.lifeexpectancy"
   ]
  },
  {
   "cell_type": "code",
   "execution_count": 22,
   "metadata": {},
   "outputs": [
    {
     "name": "stdout",
     "output_type": "stream",
     "text": [
      "r = 0.4257366342637093\n",
      "p = 7.98938763515022e-179\n"
     ]
    },
    {
     "data": {
      "text/plain": [
       "True"
      ]
     },
     "execution_count": 22,
     "metadata": {},
     "output_type": "execute_result"
    }
   ],
   "source": [
    "r, p = stats.pearsonr(x, y)\n",
    "print('r =', r)\n",
    "print('p =', p)\n",
    "p < alpha"
   ]
  },
  {
   "cell_type": "code",
   "execution_count": 23,
   "metadata": {},
   "outputs": [],
   "source": [
    "x = df.surfacearea\n",
    "y = df.lifeexpectancy"
   ]
  },
  {
   "cell_type": "code",
   "execution_count": 24,
   "metadata": {},
   "outputs": [
    {
     "name": "stdout",
     "output_type": "stream",
     "text": [
      "r = -0.0082828315806694\n",
      "p = 0.5974070623700465\n"
     ]
    },
    {
     "data": {
      "text/plain": [
       "False"
      ]
     },
     "execution_count": 24,
     "metadata": {},
     "output_type": "execute_result"
    }
   ],
   "source": [
    "r, p = stats.pearsonr(x, y)\n",
    "print('r =', r)\n",
    "print('p =', p)\n",
    "p < alpha"
   ]
  },
  {
   "cell_type": "code",
   "execution_count": 25,
   "metadata": {},
   "outputs": [],
   "source": [
    "x = df.countrypopulation\n",
    "y = df.lifeexpectancy"
   ]
  },
  {
   "cell_type": "code",
   "execution_count": 26,
   "metadata": {},
   "outputs": [
    {
     "name": "stdout",
     "output_type": "stream",
     "text": [
      "r = -0.08747149975628613\n",
      "p = 2.2969006864443965e-08\n"
     ]
    },
    {
     "data": {
      "text/plain": [
       "True"
      ]
     },
     "execution_count": 26,
     "metadata": {},
     "output_type": "execute_result"
    }
   ],
   "source": [
    "r, p = stats.pearsonr(x, y)\n",
    "print('r =', r)\n",
    "print('p =', p)\n",
    "p < alpha"
   ]
  },
  {
   "cell_type": "code",
   "execution_count": 27,
   "metadata": {},
   "outputs": [
    {
     "data": {
      "image/png": "[encoded data removed]",
      "text/plain": [
       "<Figure size 1152x216 with 4 Axes>"
      ]
     },
     "metadata": {
      "needs_background": "light"
     },
     "output_type": "display_data"
    }
   ],
   "source": [
    "plt.figure(figsize=(16, 3))\n",
    "\n",
    "for i, col in enumerate(['surfacearea', 'countrypopulation', 'gnp', 'lifeexpectancy']):  \n",
    "    plot_number = i + 1 # i starts at 0, but plot nos should start at 1\n",
    "    series = df[col]  \n",
    "    plt.subplot(1,4, plot_number)\n",
    "    plt.title(col)\n",
    "    series.hist(bins=5)"
   ]
  },
  {
   "cell_type": "code",
   "execution_count": 28,
   "metadata": {},
   "outputs": [
    {
     "data": {
      "text/html": [
       "<div>\n",
       "<style scoped>\n",
       "    .dataframe tbody tr th:only-of-type {\n",
       "        vertical-align: middle;\n",
       "    }\n",
       "\n",
       "    .dataframe tbody tr th {\n",
       "        vertical-align: top;\n",
       "    }\n",
       "\n",
       "    .dataframe thead th {\n",
       "        text-align: right;\n",
       "    }\n",
       "</style>\n",
       "<table border=\"1\" class=\"dataframe\">\n",
       "  <thead>\n",
       "    <tr style=\"text-align: right;\">\n",
       "      <th></th>\n",
       "      <th>surfacearea</th>\n",
       "      <th>countrypopulation</th>\n",
       "      <th>lifeexpectancy</th>\n",
       "      <th>gnp</th>\n",
       "      <th>citypopulation</th>\n",
       "    </tr>\n",
       "  </thead>\n",
       "  <tbody>\n",
       "    <tr>\n",
       "      <th>count</th>\n",
       "      <td>4.068000e+03</td>\n",
       "      <td>4.068000e+03</td>\n",
       "      <td>4068.000000</td>\n",
       "      <td>4.068000e+03</td>\n",
       "      <td>4.068000e+03</td>\n",
       "    </tr>\n",
       "    <tr>\n",
       "      <th>mean</th>\n",
       "      <td>3.692104e+06</td>\n",
       "      <td>2.744365e+08</td>\n",
       "      <td>69.590560</td>\n",
       "      <td>1.174002e+06</td>\n",
       "      <td>3.514140e+05</td>\n",
       "    </tr>\n",
       "    <tr>\n",
       "      <th>std</th>\n",
       "      <td>4.634721e+06</td>\n",
       "      <td>4.104655e+08</td>\n",
       "      <td>8.164046</td>\n",
       "      <td>2.173809e+06</td>\n",
       "      <td>7.245249e+05</td>\n",
       "    </tr>\n",
       "    <tr>\n",
       "      <th>min</th>\n",
       "      <td>1.500000e+00</td>\n",
       "      <td>6.000000e+03</td>\n",
       "      <td>37.200000</td>\n",
       "      <td>0.000000e+00</td>\n",
       "      <td>5.590000e+02</td>\n",
       "    </tr>\n",
       "    <tr>\n",
       "      <th>25%</th>\n",
       "      <td>3.570220e+05</td>\n",
       "      <td>3.703200e+07</td>\n",
       "      <td>63.200000</td>\n",
       "      <td>6.570700e+04</td>\n",
       "      <td>1.149950e+05</td>\n",
       "    </tr>\n",
       "    <tr>\n",
       "      <th>50%</th>\n",
       "      <td>1.221037e+06</td>\n",
       "      <td>9.888100e+07</td>\n",
       "      <td>71.200000</td>\n",
       "      <td>3.713620e+05</td>\n",
       "      <td>1.672820e+05</td>\n",
       "    </tr>\n",
       "    <tr>\n",
       "      <th>75%</th>\n",
       "      <td>8.547403e+06</td>\n",
       "      <td>2.121070e+08</td>\n",
       "      <td>77.100000</td>\n",
       "      <td>9.822680e+05</td>\n",
       "      <td>3.115002e+05</td>\n",
       "    </tr>\n",
       "    <tr>\n",
       "      <th>max</th>\n",
       "      <td>1.707540e+07</td>\n",
       "      <td>1.277558e+09</td>\n",
       "      <td>83.500000</td>\n",
       "      <td>8.510700e+06</td>\n",
       "      <td>1.050000e+07</td>\n",
       "    </tr>\n",
       "  </tbody>\n",
       "</table>\n",
       "</div>"
      ],
      "text/plain": [
       "        surfacearea  countrypopulation  lifeexpectancy           gnp  \\\n",
       "count  4.068000e+03       4.068000e+03     4068.000000  4.068000e+03   \n",
       "mean   3.692104e+06       2.744365e+08       69.590560  1.174002e+06   \n",
       "std    4.634721e+06       4.104655e+08        8.164046  2.173809e+06   \n",
       "min    1.500000e+00       6.000000e+03       37.200000  0.000000e+00   \n",
       "25%    3.570220e+05       3.703200e+07       63.200000  6.570700e+04   \n",
       "50%    1.221037e+06       9.888100e+07       71.200000  3.713620e+05   \n",
       "75%    8.547403e+06       2.121070e+08       77.100000  9.822680e+05   \n",
       "max    1.707540e+07       1.277558e+09       83.500000  8.510700e+06   \n",
       "\n",
       "       citypopulation  \n",
       "count    4.068000e+03  \n",
       "mean     3.514140e+05  \n",
       "std      7.245249e+05  \n",
       "min      5.590000e+02  \n",
       "25%      1.149950e+05  \n",
       "50%      1.672820e+05  \n",
       "75%      3.115002e+05  \n",
       "max      1.050000e+07  "
      ]
     },
     "execution_count": 28,
     "metadata": {},
     "output_type": "execute_result"
    }
   ],
   "source": [
    "df.describe()"
   ]
  },
  {
   "cell_type": "code",
   "execution_count": 29,
   "metadata": {},
   "outputs": [],
   "source": [
    "from sklearn.model_selection import train_test_split\n"
   ]
  },
  {
   "cell_type": "code",
   "execution_count": 30,
   "metadata": {},
   "outputs": [],
   "source": [
    "# train_and_validate, test = train_test_split(df, random_state=123)\n",
    "# train, validate = train_test_split(train_and_validate, random_state=123)"
   ]
  },
  {
   "cell_type": "code",
   "execution_count": 31,
   "metadata": {},
   "outputs": [],
   "source": [
    "# train.shape, validate.shape, test.shape"
   ]
  },
  {
   "cell_type": "code",
   "execution_count": 32,
   "metadata": {},
   "outputs": [],
   "source": [
    "# train.head()"
   ]
  },
  {
   "cell_type": "code",
   "execution_count": 33,
   "metadata": {},
   "outputs": [
    {
     "name": "stderr",
     "output_type": "stream",
     "text": [
      "/usr/local/anaconda3/lib/python3.7/site-packages/seaborn/_decorators.py:43: FutureWarning: Pass the following variables as keyword args: x, y. From version 0.12, the only valid positional argument will be `data`, and passing other arguments without an explicit keyword will result in an error or misinterpretation.\n",
      "  FutureWarning\n"
     ]
    },
    {
     "data": {
      "image/png": "[encoded data removed]",
      "text/plain": [
       "<Figure size 360x360 with 3 Axes>"
      ]
     },
     "metadata": {},
     "output_type": "display_data"
    }
   ],
   "source": [
    "with sns.axes_style('white'):\n",
    "    j = sns.jointplot(\"gnp\", \"lifeexpectancy\", data=df, kind='reg', height=5);\n",
    "plt.show()"
   ]
  },
  {
   "cell_type": "code",
   "execution_count": 34,
   "metadata": {},
   "outputs": [],
   "source": [
    "# train = train[['surfacearea', 'countrypopulation', 'lifeexpectancy', 'gnp', 'citypopulation']]"
   ]
  },
  {
   "cell_type": "code",
   "execution_count": 35,
   "metadata": {},
   "outputs": [],
   "source": [
    "# train.head()"
   ]
  },
  {
   "cell_type": "code",
   "execution_count": 36,
   "metadata": {},
   "outputs": [
    {
     "data": {
      "text/plain": [
       "(0.0, 4.0)"
      ]
     },
     "execution_count": 36,
     "metadata": {},
     "output_type": "execute_result"
    },
    {
     "data": {
      "image/png": "[encoded data removed]",
      "text/plain": [
       "<Figure size 576x432 with 2 Axes>"
      ]
     },
     "metadata": {
      "needs_background": "light"
     },
     "output_type": "display_data"
    }
   ],
   "source": [
    "plt.figure(figsize=(8,6))\n",
    "sns.heatmap(df.corr(), cmap='Blues', annot=True)\n",
    "plt.ylim(0, 4)"
   ]
  },
  {
   "cell_type": "code",
   "execution_count": 37,
   "metadata": {},
   "outputs": [],
   "source": [
    "# train.lifeexpectancy.value_counts()"
   ]
  },
  {
   "cell_type": "code",
   "execution_count": 38,
   "metadata": {},
   "outputs": [],
   "source": [
    "# train[train.lifeexpectancy > 77]"
   ]
  },
  {
   "cell_type": "code",
   "execution_count": 39,
   "metadata": {},
   "outputs": [],
   "source": [
    "# train[train.lifeexpectancy < 77]"
   ]
  },
  {
   "cell_type": "code",
   "execution_count": 40,
   "metadata": {},
   "outputs": [],
   "source": [
    "# train['highest_life_exp']=train['lifeexpectancy'].apply(lambda x: 1 if x >= 75 else 0)"
   ]
  },
  {
   "cell_type": "code",
   "execution_count": 41,
   "metadata": {},
   "outputs": [],
   "source": [
    "# train.head()"
   ]
  },
  {
   "cell_type": "code",
   "execution_count": 42,
   "metadata": {},
   "outputs": [],
   "source": [
    "df['highest_life_exp']=df['lifeexpectancy'].apply(lambda x: 1 if x >= 75 else 0)"
   ]
  },
  {
   "cell_type": "code",
   "execution_count": 43,
   "metadata": {},
   "outputs": [
    {
     "data": {
      "text/html": [
       "<div>\n",
       "<style scoped>\n",
       "    .dataframe tbody tr th:only-of-type {\n",
       "        vertical-align: middle;\n",
       "    }\n",
       "\n",
       "    .dataframe tbody tr th {\n",
       "        vertical-align: top;\n",
       "    }\n",
       "\n",
       "    .dataframe thead th {\n",
       "        text-align: right;\n",
       "    }\n",
       "</style>\n",
       "<table border=\"1\" class=\"dataframe\">\n",
       "  <thead>\n",
       "    <tr style=\"text-align: right;\">\n",
       "      <th></th>\n",
       "      <th>countryname</th>\n",
       "      <th>continent</th>\n",
       "      <th>region</th>\n",
       "      <th>surfacearea</th>\n",
       "      <th>countrypopulation</th>\n",
       "      <th>lifeexpectancy</th>\n",
       "      <th>gnp</th>\n",
       "      <th>cityname</th>\n",
       "      <th>citypopulation</th>\n",
       "      <th>highest_life_exp</th>\n",
       "    </tr>\n",
       "  </thead>\n",
       "  <tbody>\n",
       "    <tr>\n",
       "      <th>0</th>\n",
       "      <td>Aruba</td>\n",
       "      <td>North America</td>\n",
       "      <td>Caribbean</td>\n",
       "      <td>193.0</td>\n",
       "      <td>103000</td>\n",
       "      <td>78.4</td>\n",
       "      <td>828.0</td>\n",
       "      <td>Oranjestad</td>\n",
       "      <td>29034</td>\n",
       "      <td>1</td>\n",
       "    </tr>\n",
       "    <tr>\n",
       "      <th>1</th>\n",
       "      <td>Afghanistan</td>\n",
       "      <td>Asia</td>\n",
       "      <td>Southern and Central Asia</td>\n",
       "      <td>652090.0</td>\n",
       "      <td>22720000</td>\n",
       "      <td>45.9</td>\n",
       "      <td>5976.0</td>\n",
       "      <td>Kabul</td>\n",
       "      <td>1780000</td>\n",
       "      <td>0</td>\n",
       "    </tr>\n",
       "    <tr>\n",
       "      <th>2</th>\n",
       "      <td>Afghanistan</td>\n",
       "      <td>Asia</td>\n",
       "      <td>Southern and Central Asia</td>\n",
       "      <td>652090.0</td>\n",
       "      <td>22720000</td>\n",
       "      <td>45.9</td>\n",
       "      <td>5976.0</td>\n",
       "      <td>Qandahar</td>\n",
       "      <td>237500</td>\n",
       "      <td>0</td>\n",
       "    </tr>\n",
       "    <tr>\n",
       "      <th>3</th>\n",
       "      <td>Afghanistan</td>\n",
       "      <td>Asia</td>\n",
       "      <td>Southern and Central Asia</td>\n",
       "      <td>652090.0</td>\n",
       "      <td>22720000</td>\n",
       "      <td>45.9</td>\n",
       "      <td>5976.0</td>\n",
       "      <td>Herat</td>\n",
       "      <td>186800</td>\n",
       "      <td>0</td>\n",
       "    </tr>\n",
       "    <tr>\n",
       "      <th>4</th>\n",
       "      <td>Afghanistan</td>\n",
       "      <td>Asia</td>\n",
       "      <td>Southern and Central Asia</td>\n",
       "      <td>652090.0</td>\n",
       "      <td>22720000</td>\n",
       "      <td>45.9</td>\n",
       "      <td>5976.0</td>\n",
       "      <td>Mazar-e-Sharif</td>\n",
       "      <td>127800</td>\n",
       "      <td>0</td>\n",
       "    </tr>\n",
       "  </tbody>\n",
       "</table>\n",
       "</div>"
      ],
      "text/plain": [
       "   countryname      continent                     region  surfacearea  \\\n",
       "0        Aruba  North America                  Caribbean        193.0   \n",
       "1  Afghanistan           Asia  Southern and Central Asia     652090.0   \n",
       "2  Afghanistan           Asia  Southern and Central Asia     652090.0   \n",
       "3  Afghanistan           Asia  Southern and Central Asia     652090.0   \n",
       "4  Afghanistan           Asia  Southern and Central Asia     652090.0   \n",
       "\n",
       "   countrypopulation  lifeexpectancy     gnp        cityname  citypopulation  \\\n",
       "0             103000            78.4   828.0      Oranjestad           29034   \n",
       "1           22720000            45.9  5976.0           Kabul         1780000   \n",
       "2           22720000            45.9  5976.0        Qandahar          237500   \n",
       "3           22720000            45.9  5976.0           Herat          186800   \n",
       "4           22720000            45.9  5976.0  Mazar-e-Sharif          127800   \n",
       "\n",
       "   highest_life_exp  \n",
       "0                 1  \n",
       "1                 0  \n",
       "2                 0  \n",
       "3                 0  \n",
       "4                 0  "
      ]
     },
     "execution_count": 43,
     "metadata": {},
     "output_type": "execute_result"
    }
   ],
   "source": [
    "df.head()"
   ]
  },
  {
   "cell_type": "code",
   "execution_count": 44,
   "metadata": {},
   "outputs": [
    {
     "data": {
      "text/html": [
       "<div>\n",
       "<style scoped>\n",
       "    .dataframe tbody tr th:only-of-type {\n",
       "        vertical-align: middle;\n",
       "    }\n",
       "\n",
       "    .dataframe tbody tr th {\n",
       "        vertical-align: top;\n",
       "    }\n",
       "\n",
       "    .dataframe thead th {\n",
       "        text-align: right;\n",
       "    }\n",
       "</style>\n",
       "<table border=\"1\" class=\"dataframe\">\n",
       "  <thead>\n",
       "    <tr style=\"text-align: right;\">\n",
       "      <th></th>\n",
       "      <th>countryname</th>\n",
       "      <th>continent</th>\n",
       "      <th>region</th>\n",
       "      <th>surfacearea</th>\n",
       "      <th>countrypopulation</th>\n",
       "      <th>lifeexpectancy</th>\n",
       "      <th>gnp</th>\n",
       "      <th>cityname</th>\n",
       "      <th>citypopulation</th>\n",
       "      <th>highest_life_exp</th>\n",
       "    </tr>\n",
       "  </thead>\n",
       "  <tbody>\n",
       "    <tr>\n",
       "      <th>0</th>\n",
       "      <td>Aruba</td>\n",
       "      <td>North America</td>\n",
       "      <td>Caribbean</td>\n",
       "      <td>193.0</td>\n",
       "      <td>103000</td>\n",
       "      <td>78.4</td>\n",
       "      <td>828.0</td>\n",
       "      <td>Oranjestad</td>\n",
       "      <td>29034</td>\n",
       "      <td>1</td>\n",
       "    </tr>\n",
       "    <tr>\n",
       "      <th>1</th>\n",
       "      <td>Afghanistan</td>\n",
       "      <td>Asia</td>\n",
       "      <td>Southern and Central Asia</td>\n",
       "      <td>652090.0</td>\n",
       "      <td>22720000</td>\n",
       "      <td>45.9</td>\n",
       "      <td>5976.0</td>\n",
       "      <td>Kabul</td>\n",
       "      <td>1780000</td>\n",
       "      <td>0</td>\n",
       "    </tr>\n",
       "    <tr>\n",
       "      <th>2</th>\n",
       "      <td>Afghanistan</td>\n",
       "      <td>Asia</td>\n",
       "      <td>Southern and Central Asia</td>\n",
       "      <td>652090.0</td>\n",
       "      <td>22720000</td>\n",
       "      <td>45.9</td>\n",
       "      <td>5976.0</td>\n",
       "      <td>Qandahar</td>\n",
       "      <td>237500</td>\n",
       "      <td>0</td>\n",
       "    </tr>\n",
       "    <tr>\n",
       "      <th>3</th>\n",
       "      <td>Afghanistan</td>\n",
       "      <td>Asia</td>\n",
       "      <td>Southern and Central Asia</td>\n",
       "      <td>652090.0</td>\n",
       "      <td>22720000</td>\n",
       "      <td>45.9</td>\n",
       "      <td>5976.0</td>\n",
       "      <td>Herat</td>\n",
       "      <td>186800</td>\n",
       "      <td>0</td>\n",
       "    </tr>\n",
       "    <tr>\n",
       "      <th>4</th>\n",
       "      <td>Afghanistan</td>\n",
       "      <td>Asia</td>\n",
       "      <td>Southern and Central Asia</td>\n",
       "      <td>652090.0</td>\n",
       "      <td>22720000</td>\n",
       "      <td>45.9</td>\n",
       "      <td>5976.0</td>\n",
       "      <td>Mazar-e-Sharif</td>\n",
       "      <td>127800</td>\n",
       "      <td>0</td>\n",
       "    </tr>\n",
       "  </tbody>\n",
       "</table>\n",
       "</div>"
      ],
      "text/plain": [
       "   countryname      continent                     region  surfacearea  \\\n",
       "0        Aruba  North America                  Caribbean        193.0   \n",
       "1  Afghanistan           Asia  Southern and Central Asia     652090.0   \n",
       "2  Afghanistan           Asia  Southern and Central Asia     652090.0   \n",
       "3  Afghanistan           Asia  Southern and Central Asia     652090.0   \n",
       "4  Afghanistan           Asia  Southern and Central Asia     652090.0   \n",
       "\n",
       "   countrypopulation  lifeexpectancy     gnp        cityname  citypopulation  \\\n",
       "0             103000            78.4   828.0      Oranjestad           29034   \n",
       "1           22720000            45.9  5976.0           Kabul         1780000   \n",
       "2           22720000            45.9  5976.0        Qandahar          237500   \n",
       "3           22720000            45.9  5976.0           Herat          186800   \n",
       "4           22720000            45.9  5976.0  Mazar-e-Sharif          127800   \n",
       "\n",
       "   highest_life_exp  \n",
       "0                 1  \n",
       "1                 0  \n",
       "2                 0  \n",
       "3                 0  \n",
       "4                 0  "
      ]
     },
     "execution_count": 44,
     "metadata": {},
     "output_type": "execute_result"
    }
   ],
   "source": [
    "df.head()"
   ]
  },
  {
   "cell_type": "code",
   "execution_count": 45,
   "metadata": {},
   "outputs": [],
   "source": [
    "# df['highest_life_exp']=df['lifeexpectancy'].apply(lambda x: 1 if x >= 75.0 else 0)"
   ]
  },
  {
   "cell_type": "code",
   "execution_count": 46,
   "metadata": {},
   "outputs": [
    {
     "data": {
      "text/plain": [
       "<AxesSubplot:xlabel='gnp', ylabel='lifeexpectancy'>"
      ]
     },
     "execution_count": 46,
     "metadata": {},
     "output_type": "execute_result"
    },
    {
     "data": {
      "image/png": "[encoded data removed]",
      "text/plain": [
       "<Figure size 432x288 with 1 Axes>"
      ]
     },
     "metadata": {
      "needs_background": "light"
     },
     "output_type": "display_data"
    }
   ],
   "source": [
    "sns.scatterplot(data=df, x='gnp', y='lifeexpectancy')"
   ]
  },
  {
   "cell_type": "code",
   "execution_count": 47,
   "metadata": {},
   "outputs": [
    {
     "data": {
      "text/html": [
       "<div>\n",
       "<style scoped>\n",
       "    .dataframe tbody tr th:only-of-type {\n",
       "        vertical-align: middle;\n",
       "    }\n",
       "\n",
       "    .dataframe tbody tr th {\n",
       "        vertical-align: top;\n",
       "    }\n",
       "\n",
       "    .dataframe thead th {\n",
       "        text-align: right;\n",
       "    }\n",
       "</style>\n",
       "<table border=\"1\" class=\"dataframe\">\n",
       "  <thead>\n",
       "    <tr style=\"text-align: right;\">\n",
       "      <th></th>\n",
       "      <th>countryname</th>\n",
       "      <th>continent</th>\n",
       "      <th>region</th>\n",
       "      <th>surfacearea</th>\n",
       "      <th>countrypopulation</th>\n",
       "      <th>lifeexpectancy</th>\n",
       "      <th>gnp</th>\n",
       "      <th>cityname</th>\n",
       "      <th>citypopulation</th>\n",
       "      <th>highest_life_exp</th>\n",
       "    </tr>\n",
       "  </thead>\n",
       "  <tbody>\n",
       "    <tr>\n",
       "      <th>0</th>\n",
       "      <td>Aruba</td>\n",
       "      <td>North America</td>\n",
       "      <td>Caribbean</td>\n",
       "      <td>193.0</td>\n",
       "      <td>103000</td>\n",
       "      <td>78.4</td>\n",
       "      <td>828.0</td>\n",
       "      <td>Oranjestad</td>\n",
       "      <td>29034</td>\n",
       "      <td>1</td>\n",
       "    </tr>\n",
       "    <tr>\n",
       "      <th>1</th>\n",
       "      <td>Afghanistan</td>\n",
       "      <td>Asia</td>\n",
       "      <td>Southern and Central Asia</td>\n",
       "      <td>652090.0</td>\n",
       "      <td>22720000</td>\n",
       "      <td>45.9</td>\n",
       "      <td>5976.0</td>\n",
       "      <td>Kabul</td>\n",
       "      <td>1780000</td>\n",
       "      <td>0</td>\n",
       "    </tr>\n",
       "    <tr>\n",
       "      <th>2</th>\n",
       "      <td>Afghanistan</td>\n",
       "      <td>Asia</td>\n",
       "      <td>Southern and Central Asia</td>\n",
       "      <td>652090.0</td>\n",
       "      <td>22720000</td>\n",
       "      <td>45.9</td>\n",
       "      <td>5976.0</td>\n",
       "      <td>Qandahar</td>\n",
       "      <td>237500</td>\n",
       "      <td>0</td>\n",
       "    </tr>\n",
       "    <tr>\n",
       "      <th>3</th>\n",
       "      <td>Afghanistan</td>\n",
       "      <td>Asia</td>\n",
       "      <td>Southern and Central Asia</td>\n",
       "      <td>652090.0</td>\n",
       "      <td>22720000</td>\n",
       "      <td>45.9</td>\n",
       "      <td>5976.0</td>\n",
       "      <td>Herat</td>\n",
       "      <td>186800</td>\n",
       "      <td>0</td>\n",
       "    </tr>\n",
       "    <tr>\n",
       "      <th>4</th>\n",
       "      <td>Afghanistan</td>\n",
       "      <td>Asia</td>\n",
       "      <td>Southern and Central Asia</td>\n",
       "      <td>652090.0</td>\n",
       "      <td>22720000</td>\n",
       "      <td>45.9</td>\n",
       "      <td>5976.0</td>\n",
       "      <td>Mazar-e-Sharif</td>\n",
       "      <td>127800</td>\n",
       "      <td>0</td>\n",
       "    </tr>\n",
       "  </tbody>\n",
       "</table>\n",
       "</div>"
      ],
      "text/plain": [
       "   countryname      continent                     region  surfacearea  \\\n",
       "0        Aruba  North America                  Caribbean        193.0   \n",
       "1  Afghanistan           Asia  Southern and Central Asia     652090.0   \n",
       "2  Afghanistan           Asia  Southern and Central Asia     652090.0   \n",
       "3  Afghanistan           Asia  Southern and Central Asia     652090.0   \n",
       "4  Afghanistan           Asia  Southern and Central Asia     652090.0   \n",
       "\n",
       "   countrypopulation  lifeexpectancy     gnp        cityname  citypopulation  \\\n",
       "0             103000            78.4   828.0      Oranjestad           29034   \n",
       "1           22720000            45.9  5976.0           Kabul         1780000   \n",
       "2           22720000            45.9  5976.0        Qandahar          237500   \n",
       "3           22720000            45.9  5976.0           Herat          186800   \n",
       "4           22720000            45.9  5976.0  Mazar-e-Sharif          127800   \n",
       "\n",
       "   highest_life_exp  \n",
       "0                 1  \n",
       "1                 0  \n",
       "2                 0  \n",
       "3                 0  \n",
       "4                 0  "
      ]
     },
     "execution_count": 47,
     "metadata": {},
     "output_type": "execute_result"
    }
   ],
   "source": [
    "df.head()"
   ]
  },
  {
   "cell_type": "code",
   "execution_count": 48,
   "metadata": {},
   "outputs": [
    {
     "data": {
      "text/plain": [
       "continent\n",
       "Africa           54.389344\n",
       "Asia             69.518403\n",
       "Europe           73.637545\n",
       "North America    74.913425\n",
       "Oceania          73.851064\n",
       "South America    67.464392\n",
       "Name: lifeexpectancy, dtype: float64"
      ]
     },
     "execution_count": 48,
     "metadata": {},
     "output_type": "execute_result"
    }
   ],
   "source": [
    "df.groupby(['continent']).lifeexpectancy.mean()"
   ]
  },
  {
   "cell_type": "code",
   "execution_count": 50,
   "metadata": {},
   "outputs": [
    {
     "data": {
      "text/plain": [
       "continent      region                   \n",
       "Oceania        Australia and New Zealand    79.017391\n",
       "Europe         Nordic Countries             78.517647\n",
       "               Southern Europe              78.074839\n",
       "               Western Europe               77.953226\n",
       "               British Islands              77.678313\n",
       "North America  North America                77.417431\n",
       "Asia           Eastern Asia                 75.102162\n",
       "North America  Caribbean                    72.998276\n",
       "Oceania        Polynesia                    71.787500\n",
       "North America  Central America              71.302551\n",
       "Asia           Middle East                  70.271839\n",
       "Europe         Baltic Countries             68.970000\n",
       "               Eastern Europe               68.394609\n",
       "Oceania        Micronesia                   67.600000\n",
       "South America  South America                67.464392\n",
       "Oceania        Melanesia                    67.140000\n",
       "Asia           Southeast Asia               67.124579\n",
       "Africa         Northern Africa              66.053922\n",
       "Asia           Southern and Central Asia    63.118198\n",
       "Africa         Western Africa               52.247619\n",
       "               Southern Africa              50.218367\n",
       "               Central Africa               49.007895\n",
       "               Eastern Africa               46.666667\n",
       "Name: lifeexpectancy, dtype: float64"
      ]
     },
     "execution_count": 50,
     "metadata": {},
     "output_type": "execute_result"
    }
   ],
   "source": [
    "df.groupby(['continent', 'region']).lifeexpectancy.mean().sort_values(ascending=False)"
   ]
  },
  {
   "cell_type": "markdown",
   "metadata": {},
   "source": [
    "# Visualizations"
   ]
  },
  {
   "cell_type": "code",
   "execution_count": null,
   "metadata": {},
   "outputs": [],
   "source": []
  },
  {
   "cell_type": "code",
   "execution_count": null,
   "metadata": {},
   "outputs": [],
   "source": []
  }
 ],
 "metadata": {
  "kernelspec": {
   "display_name": "Python 3",
   "language": "python",
   "name": "python3"
  },
  "language_info": {
   "codemirror_mode": {
    "name": "ipython",
    "version": 3
   },
   "file_extension": ".py",
   "mimetype": "text/x-python",
   "name": "python",
   "nbconvert_exporter": "python",
   "pygments_lexer": "ipython3",
   "version": "3.7.9"
  }
 },
 "nbformat": 4,
 "nbformat_minor": 4
}
